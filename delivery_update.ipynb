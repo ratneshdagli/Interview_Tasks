{
 "cells": [
  {
   "cell_type": "code",
   "execution_count": 69,
   "id": "96fba718",
   "metadata": {},
   "outputs": [],
   "source": [
    "import pandas as pd\n",
    "import plotly.express as px"
   ]
  },
  {
   "cell_type": "code",
   "execution_count": 70,
   "id": "8aec56b5",
   "metadata": {},
   "outputs": [],
   "source": [
    "df=pd.read_csv(\"deliveries_updated_mens_ipl_upto_2024 - deliveries_updated_mens_ipl_upto_2024.csv\")"
   ]
  },
  {
   "cell_type": "code",
   "execution_count": 71,
   "id": "218d8296",
   "metadata": {},
   "outputs": [
    {
     "data": {
      "text/html": [
       "<div>\n",
       "<style scoped>\n",
       "    .dataframe tbody tr th:only-of-type {\n",
       "        vertical-align: middle;\n",
       "    }\n",
       "\n",
       "    .dataframe tbody tr th {\n",
       "        vertical-align: top;\n",
       "    }\n",
       "\n",
       "    .dataframe thead th {\n",
       "        text-align: right;\n",
       "    }\n",
       "</style>\n",
       "<table border=\"1\" class=\"dataframe\">\n",
       "  <thead>\n",
       "    <tr style=\"text-align: right;\">\n",
       "      <th></th>\n",
       "      <th>matchId</th>\n",
       "      <th>inning</th>\n",
       "      <th>over_ball</th>\n",
       "      <th>over</th>\n",
       "      <th>ball</th>\n",
       "      <th>batting_team</th>\n",
       "      <th>bowling_team</th>\n",
       "      <th>batsman</th>\n",
       "      <th>non_striker</th>\n",
       "      <th>bowler</th>\n",
       "      <th>batsman_runs</th>\n",
       "      <th>extras</th>\n",
       "      <th>isWide</th>\n",
       "      <th>isNoBall</th>\n",
       "      <th>Byes</th>\n",
       "      <th>LegByes</th>\n",
       "      <th>Penalty</th>\n",
       "      <th>dismissal_kind</th>\n",
       "      <th>player_dismissed</th>\n",
       "      <th>date</th>\n",
       "    </tr>\n",
       "  </thead>\n",
       "  <tbody>\n",
       "    <tr>\n",
       "      <th>0</th>\n",
       "      <td>335982</td>\n",
       "      <td>1</td>\n",
       "      <td>0.1</td>\n",
       "      <td>0</td>\n",
       "      <td>1</td>\n",
       "      <td>Kolkata Knight Riders</td>\n",
       "      <td>Royal Challengers Bangalore</td>\n",
       "      <td>SC Ganguly</td>\n",
       "      <td>BB McCullum</td>\n",
       "      <td>P Kumar</td>\n",
       "      <td>0</td>\n",
       "      <td>1</td>\n",
       "      <td>NaN</td>\n",
       "      <td>NaN</td>\n",
       "      <td>NaN</td>\n",
       "      <td>1.0</td>\n",
       "      <td>NaN</td>\n",
       "      <td>NaN</td>\n",
       "      <td>NaN</td>\n",
       "      <td>2008-04-18</td>\n",
       "    </tr>\n",
       "    <tr>\n",
       "      <th>1</th>\n",
       "      <td>335982</td>\n",
       "      <td>1</td>\n",
       "      <td>0.2</td>\n",
       "      <td>0</td>\n",
       "      <td>2</td>\n",
       "      <td>Kolkata Knight Riders</td>\n",
       "      <td>Royal Challengers Bangalore</td>\n",
       "      <td>BB McCullum</td>\n",
       "      <td>SC Ganguly</td>\n",
       "      <td>P Kumar</td>\n",
       "      <td>0</td>\n",
       "      <td>0</td>\n",
       "      <td>NaN</td>\n",
       "      <td>NaN</td>\n",
       "      <td>NaN</td>\n",
       "      <td>NaN</td>\n",
       "      <td>NaN</td>\n",
       "      <td>NaN</td>\n",
       "      <td>NaN</td>\n",
       "      <td>2008-04-18</td>\n",
       "    </tr>\n",
       "    <tr>\n",
       "      <th>2</th>\n",
       "      <td>335982</td>\n",
       "      <td>1</td>\n",
       "      <td>0.3</td>\n",
       "      <td>0</td>\n",
       "      <td>3</td>\n",
       "      <td>Kolkata Knight Riders</td>\n",
       "      <td>Royal Challengers Bangalore</td>\n",
       "      <td>BB McCullum</td>\n",
       "      <td>SC Ganguly</td>\n",
       "      <td>P Kumar</td>\n",
       "      <td>0</td>\n",
       "      <td>1</td>\n",
       "      <td>1.0</td>\n",
       "      <td>NaN</td>\n",
       "      <td>NaN</td>\n",
       "      <td>NaN</td>\n",
       "      <td>NaN</td>\n",
       "      <td>NaN</td>\n",
       "      <td>NaN</td>\n",
       "      <td>2008-04-18</td>\n",
       "    </tr>\n",
       "    <tr>\n",
       "      <th>3</th>\n",
       "      <td>335982</td>\n",
       "      <td>1</td>\n",
       "      <td>0.4</td>\n",
       "      <td>0</td>\n",
       "      <td>4</td>\n",
       "      <td>Kolkata Knight Riders</td>\n",
       "      <td>Royal Challengers Bangalore</td>\n",
       "      <td>BB McCullum</td>\n",
       "      <td>SC Ganguly</td>\n",
       "      <td>P Kumar</td>\n",
       "      <td>0</td>\n",
       "      <td>0</td>\n",
       "      <td>NaN</td>\n",
       "      <td>NaN</td>\n",
       "      <td>NaN</td>\n",
       "      <td>NaN</td>\n",
       "      <td>NaN</td>\n",
       "      <td>NaN</td>\n",
       "      <td>NaN</td>\n",
       "      <td>2008-04-18</td>\n",
       "    </tr>\n",
       "    <tr>\n",
       "      <th>4</th>\n",
       "      <td>335982</td>\n",
       "      <td>1</td>\n",
       "      <td>0.5</td>\n",
       "      <td>0</td>\n",
       "      <td>5</td>\n",
       "      <td>Kolkata Knight Riders</td>\n",
       "      <td>Royal Challengers Bangalore</td>\n",
       "      <td>BB McCullum</td>\n",
       "      <td>SC Ganguly</td>\n",
       "      <td>P Kumar</td>\n",
       "      <td>0</td>\n",
       "      <td>0</td>\n",
       "      <td>NaN</td>\n",
       "      <td>NaN</td>\n",
       "      <td>NaN</td>\n",
       "      <td>NaN</td>\n",
       "      <td>NaN</td>\n",
       "      <td>NaN</td>\n",
       "      <td>NaN</td>\n",
       "      <td>2008-04-18</td>\n",
       "    </tr>\n",
       "  </tbody>\n",
       "</table>\n",
       "</div>"
      ],
      "text/plain": [
       "   matchId  inning  over_ball  over  ball           batting_team  \\\n",
       "0   335982       1        0.1     0     1  Kolkata Knight Riders   \n",
       "1   335982       1        0.2     0     2  Kolkata Knight Riders   \n",
       "2   335982       1        0.3     0     3  Kolkata Knight Riders   \n",
       "3   335982       1        0.4     0     4  Kolkata Knight Riders   \n",
       "4   335982       1        0.5     0     5  Kolkata Knight Riders   \n",
       "\n",
       "                  bowling_team      batsman  non_striker   bowler  \\\n",
       "0  Royal Challengers Bangalore   SC Ganguly  BB McCullum  P Kumar   \n",
       "1  Royal Challengers Bangalore  BB McCullum   SC Ganguly  P Kumar   \n",
       "2  Royal Challengers Bangalore  BB McCullum   SC Ganguly  P Kumar   \n",
       "3  Royal Challengers Bangalore  BB McCullum   SC Ganguly  P Kumar   \n",
       "4  Royal Challengers Bangalore  BB McCullum   SC Ganguly  P Kumar   \n",
       "\n",
       "   batsman_runs  extras  isWide  isNoBall  Byes  LegByes  Penalty  \\\n",
       "0             0       1     NaN       NaN   NaN      1.0      NaN   \n",
       "1             0       0     NaN       NaN   NaN      NaN      NaN   \n",
       "2             0       1     1.0       NaN   NaN      NaN      NaN   \n",
       "3             0       0     NaN       NaN   NaN      NaN      NaN   \n",
       "4             0       0     NaN       NaN   NaN      NaN      NaN   \n",
       "\n",
       "  dismissal_kind player_dismissed        date  \n",
       "0            NaN              NaN  2008-04-18  \n",
       "1            NaN              NaN  2008-04-18  \n",
       "2            NaN              NaN  2008-04-18  \n",
       "3            NaN              NaN  2008-04-18  \n",
       "4            NaN              NaN  2008-04-18  "
      ]
     },
     "execution_count": 71,
     "metadata": {},
     "output_type": "execute_result"
    }
   ],
   "source": [
    "df.head()"
   ]
  },
  {
   "cell_type": "code",
   "execution_count": 72,
   "id": "1531f08e",
   "metadata": {},
   "outputs": [
    {
     "data": {
      "text/plain": [
       "matchId                  0\n",
       "inning                   0\n",
       "over_ball                0\n",
       "over                     0\n",
       "ball                     0\n",
       "batting_team             0\n",
       "bowling_team             0\n",
       "batsman                  0\n",
       "non_striker              0\n",
       "bowler                   0\n",
       "batsman_runs             0\n",
       "extras                   0\n",
       "isWide              252539\n",
       "isNoBall            259827\n",
       "Byes                260247\n",
       "LegByes             256919\n",
       "Penalty             260918\n",
       "dismissal_kind      247970\n",
       "player_dismissed    247970\n",
       "date                     0\n",
       "dtype: int64"
      ]
     },
     "execution_count": 72,
     "metadata": {},
     "output_type": "execute_result"
    }
   ],
   "source": [
    "df.isnull().sum()"
   ]
  },
  {
   "cell_type": "code",
   "execution_count": 73,
   "id": "41645df2",
   "metadata": {},
   "outputs": [
    {
     "name": "stdout",
     "output_type": "stream",
     "text": [
      "<class 'pandas.core.frame.DataFrame'>\n",
      "RangeIndex: 260920 entries, 0 to 260919\n",
      "Data columns (total 20 columns):\n",
      " #   Column            Non-Null Count   Dtype  \n",
      "---  ------            --------------   -----  \n",
      " 0   matchId           260920 non-null  int64  \n",
      " 1   inning            260920 non-null  int64  \n",
      " 2   over_ball         260920 non-null  float64\n",
      " 3   over              260920 non-null  int64  \n",
      " 4   ball              260920 non-null  int64  \n",
      " 5   batting_team      260920 non-null  object \n",
      " 6   bowling_team      260920 non-null  object \n",
      " 7   batsman           260920 non-null  object \n",
      " 8   non_striker       260920 non-null  object \n",
      " 9   bowler            260920 non-null  object \n",
      " 10  batsman_runs      260920 non-null  int64  \n",
      " 11  extras            260920 non-null  int64  \n",
      " 12  isWide            8381 non-null    float64\n",
      " 13  isNoBall          1093 non-null    float64\n",
      " 14  Byes              673 non-null     float64\n",
      " 15  LegByes           4001 non-null    float64\n",
      " 16  Penalty           2 non-null       float64\n",
      " 17  dismissal_kind    12950 non-null   object \n",
      " 18  player_dismissed  12950 non-null   object \n",
      " 19  date              260920 non-null  object \n",
      "dtypes: float64(6), int64(6), object(8)\n",
      "memory usage: 39.8+ MB\n"
     ]
    }
   ],
   "source": [
    "df.info()"
   ]
  },
  {
   "cell_type": "code",
   "execution_count": 74,
   "id": "44d508a0",
   "metadata": {},
   "outputs": [
    {
     "data": {
      "text/html": [
       "<div>\n",
       "<style scoped>\n",
       "    .dataframe tbody tr th:only-of-type {\n",
       "        vertical-align: middle;\n",
       "    }\n",
       "\n",
       "    .dataframe tbody tr th {\n",
       "        vertical-align: top;\n",
       "    }\n",
       "\n",
       "    .dataframe thead th {\n",
       "        text-align: right;\n",
       "    }\n",
       "</style>\n",
       "<table border=\"1\" class=\"dataframe\">\n",
       "  <thead>\n",
       "    <tr style=\"text-align: right;\">\n",
       "      <th></th>\n",
       "      <th>matchId</th>\n",
       "      <th>inning</th>\n",
       "      <th>over_ball</th>\n",
       "      <th>over</th>\n",
       "      <th>ball</th>\n",
       "      <th>batting_team</th>\n",
       "      <th>bowling_team</th>\n",
       "      <th>batsman</th>\n",
       "      <th>non_striker</th>\n",
       "      <th>bowler</th>\n",
       "      <th>batsman_runs</th>\n",
       "      <th>extras</th>\n",
       "      <th>isWide</th>\n",
       "      <th>isNoBall</th>\n",
       "      <th>Byes</th>\n",
       "      <th>LegByes</th>\n",
       "      <th>Penalty</th>\n",
       "      <th>dismissal_kind</th>\n",
       "      <th>player_dismissed</th>\n",
       "      <th>date</th>\n",
       "    </tr>\n",
       "  </thead>\n",
       "  <tbody>\n",
       "    <tr>\n",
       "      <th>38308</th>\n",
       "      <td>419152</td>\n",
       "      <td>1</td>\n",
       "      <td>3.1</td>\n",
       "      <td>3</td>\n",
       "      <td>1</td>\n",
       "      <td>Mumbai Indians</td>\n",
       "      <td>Delhi Daredevils</td>\n",
       "      <td>SR Tendulkar</td>\n",
       "      <td>C Madan</td>\n",
       "      <td>PJ Sangwan</td>\n",
       "      <td>1</td>\n",
       "      <td>0</td>\n",
       "      <td>NaN</td>\n",
       "      <td>NaN</td>\n",
       "      <td>NaN</td>\n",
       "      <td>NaN</td>\n",
       "      <td>NaN</td>\n",
       "      <td>NaN</td>\n",
       "      <td>NaN</td>\n",
       "      <td>2010-04-13</td>\n",
       "    </tr>\n",
       "    <tr>\n",
       "      <th>240635</th>\n",
       "      <td>1359536</td>\n",
       "      <td>1</td>\n",
       "      <td>1.1</td>\n",
       "      <td>1</td>\n",
       "      <td>1</td>\n",
       "      <td>Gujarat Titans</td>\n",
       "      <td>Sunrisers Hyderabad</td>\n",
       "      <td>B Sai Sudharsan</td>\n",
       "      <td>Shubman Gill</td>\n",
       "      <td>M Jansen</td>\n",
       "      <td>0</td>\n",
       "      <td>0</td>\n",
       "      <td>NaN</td>\n",
       "      <td>NaN</td>\n",
       "      <td>NaN</td>\n",
       "      <td>NaN</td>\n",
       "      <td>NaN</td>\n",
       "      <td>NaN</td>\n",
       "      <td>NaN</td>\n",
       "      <td>2023-05-15</td>\n",
       "    </tr>\n",
       "    <tr>\n",
       "      <th>255744</th>\n",
       "      <td>1426287</td>\n",
       "      <td>2</td>\n",
       "      <td>16.1</td>\n",
       "      <td>16</td>\n",
       "      <td>1</td>\n",
       "      <td>Punjab Kings</td>\n",
       "      <td>Chennai Super Kings</td>\n",
       "      <td>SM Curran</td>\n",
       "      <td>Shashank Singh</td>\n",
       "      <td>Mustafizur Rahman</td>\n",
       "      <td>1</td>\n",
       "      <td>0</td>\n",
       "      <td>NaN</td>\n",
       "      <td>NaN</td>\n",
       "      <td>NaN</td>\n",
       "      <td>NaN</td>\n",
       "      <td>NaN</td>\n",
       "      <td>NaN</td>\n",
       "      <td>NaN</td>\n",
       "      <td>2024-05-01</td>\n",
       "    </tr>\n",
       "  </tbody>\n",
       "</table>\n",
       "</div>"
      ],
      "text/plain": [
       "        matchId  inning  over_ball  over  ball    batting_team  \\\n",
       "38308    419152       1        3.1     3     1  Mumbai Indians   \n",
       "240635  1359536       1        1.1     1     1  Gujarat Titans   \n",
       "255744  1426287       2       16.1    16     1    Punjab Kings   \n",
       "\n",
       "               bowling_team          batsman     non_striker  \\\n",
       "38308      Delhi Daredevils     SR Tendulkar         C Madan   \n",
       "240635  Sunrisers Hyderabad  B Sai Sudharsan    Shubman Gill   \n",
       "255744  Chennai Super Kings        SM Curran  Shashank Singh   \n",
       "\n",
       "                   bowler  batsman_runs  extras  isWide  isNoBall  Byes  \\\n",
       "38308          PJ Sangwan             1       0     NaN       NaN   NaN   \n",
       "240635           M Jansen             0       0     NaN       NaN   NaN   \n",
       "255744  Mustafizur Rahman             1       0     NaN       NaN   NaN   \n",
       "\n",
       "        LegByes  Penalty dismissal_kind player_dismissed        date  \n",
       "38308       NaN      NaN            NaN              NaN  2010-04-13  \n",
       "240635      NaN      NaN            NaN              NaN  2023-05-15  \n",
       "255744      NaN      NaN            NaN              NaN  2024-05-01  "
      ]
     },
     "execution_count": 74,
     "metadata": {},
     "output_type": "execute_result"
    }
   ],
   "source": [
    "df[df.duplicated()]"
   ]
  },
  {
   "cell_type": "code",
   "execution_count": 75,
   "id": "e0979832",
   "metadata": {},
   "outputs": [],
   "source": [
    "df[[\"isWide\",\"isNoBall\",\"Byes\",\"LegByes\",\"Penalty\"]]=df[[\"isWide\",\"isNoBall\",\"Byes\",\"LegByes\",\"Penalty\"]].fillna(0)"
   ]
  },
  {
   "cell_type": "code",
   "execution_count": 76,
   "id": "2ea871f9",
   "metadata": {},
   "outputs": [
    {
     "data": {
      "text/plain": [
       "matchId                  0\n",
       "inning                   0\n",
       "over_ball                0\n",
       "over                     0\n",
       "ball                     0\n",
       "batting_team             0\n",
       "bowling_team             0\n",
       "batsman                  0\n",
       "non_striker              0\n",
       "bowler                   0\n",
       "batsman_runs             0\n",
       "extras                   0\n",
       "isWide                   0\n",
       "isNoBall                 0\n",
       "Byes                     0\n",
       "LegByes                  0\n",
       "Penalty                  0\n",
       "dismissal_kind      247970\n",
       "player_dismissed    247970\n",
       "date                     0\n",
       "dtype: int64"
      ]
     },
     "execution_count": 76,
     "metadata": {},
     "output_type": "execute_result"
    }
   ],
   "source": [
    "df.isnull().sum()"
   ]
  },
  {
   "cell_type": "code",
   "execution_count": 77,
   "id": "d386e079",
   "metadata": {},
   "outputs": [
    {
     "data": {
      "text/plain": [
       "array([nan, 'caught', 'bowled', 'run out', 'lbw', 'retired hurt',\n",
       "       'stumped', 'caught and bowled', 'hit wicket',\n",
       "       'obstructing the field', 'retired out'], dtype=object)"
      ]
     },
     "execution_count": 77,
     "metadata": {},
     "output_type": "execute_result"
    }
   ],
   "source": [
    "df[\"dismissal_kind\"].unique()"
   ]
  },
  {
   "cell_type": "code",
   "execution_count": 78,
   "id": "c1b1d9db",
   "metadata": {},
   "outputs": [],
   "source": [
    "import plotly.express as px"
   ]
  },
  {
   "cell_type": "code",
   "execution_count": 79,
   "id": "b1a580f4",
   "metadata": {},
   "outputs": [
    {
     "data": {
      "text/html": [
       "<div>\n",
       "<style scoped>\n",
       "    .dataframe tbody tr th:only-of-type {\n",
       "        vertical-align: middle;\n",
       "    }\n",
       "\n",
       "    .dataframe tbody tr th {\n",
       "        vertical-align: top;\n",
       "    }\n",
       "\n",
       "    .dataframe thead th {\n",
       "        text-align: right;\n",
       "    }\n",
       "</style>\n",
       "<table border=\"1\" class=\"dataframe\">\n",
       "  <thead>\n",
       "    <tr style=\"text-align: right;\">\n",
       "      <th></th>\n",
       "      <th>matchId</th>\n",
       "      <th>inning</th>\n",
       "      <th>over_ball</th>\n",
       "      <th>over</th>\n",
       "      <th>ball</th>\n",
       "      <th>batting_team</th>\n",
       "      <th>bowling_team</th>\n",
       "      <th>batsman</th>\n",
       "      <th>non_striker</th>\n",
       "      <th>bowler</th>\n",
       "      <th>batsman_runs</th>\n",
       "      <th>extras</th>\n",
       "      <th>isWide</th>\n",
       "      <th>isNoBall</th>\n",
       "      <th>Byes</th>\n",
       "      <th>LegByes</th>\n",
       "      <th>Penalty</th>\n",
       "      <th>dismissal_kind</th>\n",
       "      <th>player_dismissed</th>\n",
       "      <th>date</th>\n",
       "    </tr>\n",
       "  </thead>\n",
       "  <tbody>\n",
       "    <tr>\n",
       "      <th>0</th>\n",
       "      <td>335982</td>\n",
       "      <td>1</td>\n",
       "      <td>0.1</td>\n",
       "      <td>0</td>\n",
       "      <td>1</td>\n",
       "      <td>Kolkata Knight Riders</td>\n",
       "      <td>Royal Challengers Bangalore</td>\n",
       "      <td>SC Ganguly</td>\n",
       "      <td>BB McCullum</td>\n",
       "      <td>P Kumar</td>\n",
       "      <td>0</td>\n",
       "      <td>1</td>\n",
       "      <td>0.0</td>\n",
       "      <td>0.0</td>\n",
       "      <td>0.0</td>\n",
       "      <td>1.0</td>\n",
       "      <td>0.0</td>\n",
       "      <td>NaN</td>\n",
       "      <td>NaN</td>\n",
       "      <td>2008-04-18</td>\n",
       "    </tr>\n",
       "    <tr>\n",
       "      <th>1</th>\n",
       "      <td>335982</td>\n",
       "      <td>1</td>\n",
       "      <td>0.2</td>\n",
       "      <td>0</td>\n",
       "      <td>2</td>\n",
       "      <td>Kolkata Knight Riders</td>\n",
       "      <td>Royal Challengers Bangalore</td>\n",
       "      <td>BB McCullum</td>\n",
       "      <td>SC Ganguly</td>\n",
       "      <td>P Kumar</td>\n",
       "      <td>0</td>\n",
       "      <td>0</td>\n",
       "      <td>0.0</td>\n",
       "      <td>0.0</td>\n",
       "      <td>0.0</td>\n",
       "      <td>0.0</td>\n",
       "      <td>0.0</td>\n",
       "      <td>NaN</td>\n",
       "      <td>NaN</td>\n",
       "      <td>2008-04-18</td>\n",
       "    </tr>\n",
       "    <tr>\n",
       "      <th>2</th>\n",
       "      <td>335982</td>\n",
       "      <td>1</td>\n",
       "      <td>0.3</td>\n",
       "      <td>0</td>\n",
       "      <td>3</td>\n",
       "      <td>Kolkata Knight Riders</td>\n",
       "      <td>Royal Challengers Bangalore</td>\n",
       "      <td>BB McCullum</td>\n",
       "      <td>SC Ganguly</td>\n",
       "      <td>P Kumar</td>\n",
       "      <td>0</td>\n",
       "      <td>1</td>\n",
       "      <td>1.0</td>\n",
       "      <td>0.0</td>\n",
       "      <td>0.0</td>\n",
       "      <td>0.0</td>\n",
       "      <td>0.0</td>\n",
       "      <td>NaN</td>\n",
       "      <td>NaN</td>\n",
       "      <td>2008-04-18</td>\n",
       "    </tr>\n",
       "    <tr>\n",
       "      <th>3</th>\n",
       "      <td>335982</td>\n",
       "      <td>1</td>\n",
       "      <td>0.4</td>\n",
       "      <td>0</td>\n",
       "      <td>4</td>\n",
       "      <td>Kolkata Knight Riders</td>\n",
       "      <td>Royal Challengers Bangalore</td>\n",
       "      <td>BB McCullum</td>\n",
       "      <td>SC Ganguly</td>\n",
       "      <td>P Kumar</td>\n",
       "      <td>0</td>\n",
       "      <td>0</td>\n",
       "      <td>0.0</td>\n",
       "      <td>0.0</td>\n",
       "      <td>0.0</td>\n",
       "      <td>0.0</td>\n",
       "      <td>0.0</td>\n",
       "      <td>NaN</td>\n",
       "      <td>NaN</td>\n",
       "      <td>2008-04-18</td>\n",
       "    </tr>\n",
       "    <tr>\n",
       "      <th>4</th>\n",
       "      <td>335982</td>\n",
       "      <td>1</td>\n",
       "      <td>0.5</td>\n",
       "      <td>0</td>\n",
       "      <td>5</td>\n",
       "      <td>Kolkata Knight Riders</td>\n",
       "      <td>Royal Challengers Bangalore</td>\n",
       "      <td>BB McCullum</td>\n",
       "      <td>SC Ganguly</td>\n",
       "      <td>P Kumar</td>\n",
       "      <td>0</td>\n",
       "      <td>0</td>\n",
       "      <td>0.0</td>\n",
       "      <td>0.0</td>\n",
       "      <td>0.0</td>\n",
       "      <td>0.0</td>\n",
       "      <td>0.0</td>\n",
       "      <td>NaN</td>\n",
       "      <td>NaN</td>\n",
       "      <td>2008-04-18</td>\n",
       "    </tr>\n",
       "    <tr>\n",
       "      <th>...</th>\n",
       "      <td>...</td>\n",
       "      <td>...</td>\n",
       "      <td>...</td>\n",
       "      <td>...</td>\n",
       "      <td>...</td>\n",
       "      <td>...</td>\n",
       "      <td>...</td>\n",
       "      <td>...</td>\n",
       "      <td>...</td>\n",
       "      <td>...</td>\n",
       "      <td>...</td>\n",
       "      <td>...</td>\n",
       "      <td>...</td>\n",
       "      <td>...</td>\n",
       "      <td>...</td>\n",
       "      <td>...</td>\n",
       "      <td>...</td>\n",
       "      <td>...</td>\n",
       "      <td>...</td>\n",
       "      <td>...</td>\n",
       "    </tr>\n",
       "    <tr>\n",
       "      <th>260915</th>\n",
       "      <td>1426312</td>\n",
       "      <td>2</td>\n",
       "      <td>9.5</td>\n",
       "      <td>9</td>\n",
       "      <td>5</td>\n",
       "      <td>Kolkata Knight Riders</td>\n",
       "      <td>Sunrisers Hyderabad</td>\n",
       "      <td>SS Iyer</td>\n",
       "      <td>VR Iyer</td>\n",
       "      <td>AK Markram</td>\n",
       "      <td>1</td>\n",
       "      <td>0</td>\n",
       "      <td>0.0</td>\n",
       "      <td>0.0</td>\n",
       "      <td>0.0</td>\n",
       "      <td>0.0</td>\n",
       "      <td>0.0</td>\n",
       "      <td>NaN</td>\n",
       "      <td>NaN</td>\n",
       "      <td>2024-05-26</td>\n",
       "    </tr>\n",
       "    <tr>\n",
       "      <th>260916</th>\n",
       "      <td>1426312</td>\n",
       "      <td>2</td>\n",
       "      <td>9.6</td>\n",
       "      <td>9</td>\n",
       "      <td>6</td>\n",
       "      <td>Kolkata Knight Riders</td>\n",
       "      <td>Sunrisers Hyderabad</td>\n",
       "      <td>VR Iyer</td>\n",
       "      <td>SS Iyer</td>\n",
       "      <td>AK Markram</td>\n",
       "      <td>1</td>\n",
       "      <td>0</td>\n",
       "      <td>0.0</td>\n",
       "      <td>0.0</td>\n",
       "      <td>0.0</td>\n",
       "      <td>0.0</td>\n",
       "      <td>0.0</td>\n",
       "      <td>NaN</td>\n",
       "      <td>NaN</td>\n",
       "      <td>2024-05-26</td>\n",
       "    </tr>\n",
       "    <tr>\n",
       "      <th>260917</th>\n",
       "      <td>1426312</td>\n",
       "      <td>2</td>\n",
       "      <td>10.1</td>\n",
       "      <td>10</td>\n",
       "      <td>1</td>\n",
       "      <td>Kolkata Knight Riders</td>\n",
       "      <td>Sunrisers Hyderabad</td>\n",
       "      <td>VR Iyer</td>\n",
       "      <td>SS Iyer</td>\n",
       "      <td>Shahbaz Ahmed</td>\n",
       "      <td>1</td>\n",
       "      <td>0</td>\n",
       "      <td>0.0</td>\n",
       "      <td>0.0</td>\n",
       "      <td>0.0</td>\n",
       "      <td>0.0</td>\n",
       "      <td>0.0</td>\n",
       "      <td>NaN</td>\n",
       "      <td>NaN</td>\n",
       "      <td>2024-05-26</td>\n",
       "    </tr>\n",
       "    <tr>\n",
       "      <th>260918</th>\n",
       "      <td>1426312</td>\n",
       "      <td>2</td>\n",
       "      <td>10.2</td>\n",
       "      <td>10</td>\n",
       "      <td>2</td>\n",
       "      <td>Kolkata Knight Riders</td>\n",
       "      <td>Sunrisers Hyderabad</td>\n",
       "      <td>SS Iyer</td>\n",
       "      <td>VR Iyer</td>\n",
       "      <td>Shahbaz Ahmed</td>\n",
       "      <td>1</td>\n",
       "      <td>0</td>\n",
       "      <td>0.0</td>\n",
       "      <td>0.0</td>\n",
       "      <td>0.0</td>\n",
       "      <td>0.0</td>\n",
       "      <td>0.0</td>\n",
       "      <td>NaN</td>\n",
       "      <td>NaN</td>\n",
       "      <td>2024-05-26</td>\n",
       "    </tr>\n",
       "    <tr>\n",
       "      <th>260919</th>\n",
       "      <td>1426312</td>\n",
       "      <td>2</td>\n",
       "      <td>10.3</td>\n",
       "      <td>10</td>\n",
       "      <td>3</td>\n",
       "      <td>Kolkata Knight Riders</td>\n",
       "      <td>Sunrisers Hyderabad</td>\n",
       "      <td>VR Iyer</td>\n",
       "      <td>SS Iyer</td>\n",
       "      <td>Shahbaz Ahmed</td>\n",
       "      <td>1</td>\n",
       "      <td>0</td>\n",
       "      <td>0.0</td>\n",
       "      <td>0.0</td>\n",
       "      <td>0.0</td>\n",
       "      <td>0.0</td>\n",
       "      <td>0.0</td>\n",
       "      <td>NaN</td>\n",
       "      <td>NaN</td>\n",
       "      <td>2024-05-26</td>\n",
       "    </tr>\n",
       "  </tbody>\n",
       "</table>\n",
       "<p>260920 rows × 20 columns</p>\n",
       "</div>"
      ],
      "text/plain": [
       "        matchId  inning  over_ball  over  ball           batting_team  \\\n",
       "0        335982       1        0.1     0     1  Kolkata Knight Riders   \n",
       "1        335982       1        0.2     0     2  Kolkata Knight Riders   \n",
       "2        335982       1        0.3     0     3  Kolkata Knight Riders   \n",
       "3        335982       1        0.4     0     4  Kolkata Knight Riders   \n",
       "4        335982       1        0.5     0     5  Kolkata Knight Riders   \n",
       "...         ...     ...        ...   ...   ...                    ...   \n",
       "260915  1426312       2        9.5     9     5  Kolkata Knight Riders   \n",
       "260916  1426312       2        9.6     9     6  Kolkata Knight Riders   \n",
       "260917  1426312       2       10.1    10     1  Kolkata Knight Riders   \n",
       "260918  1426312       2       10.2    10     2  Kolkata Knight Riders   \n",
       "260919  1426312       2       10.3    10     3  Kolkata Knight Riders   \n",
       "\n",
       "                       bowling_team      batsman  non_striker         bowler  \\\n",
       "0       Royal Challengers Bangalore   SC Ganguly  BB McCullum        P Kumar   \n",
       "1       Royal Challengers Bangalore  BB McCullum   SC Ganguly        P Kumar   \n",
       "2       Royal Challengers Bangalore  BB McCullum   SC Ganguly        P Kumar   \n",
       "3       Royal Challengers Bangalore  BB McCullum   SC Ganguly        P Kumar   \n",
       "4       Royal Challengers Bangalore  BB McCullum   SC Ganguly        P Kumar   \n",
       "...                             ...          ...          ...            ...   \n",
       "260915          Sunrisers Hyderabad      SS Iyer      VR Iyer     AK Markram   \n",
       "260916          Sunrisers Hyderabad      VR Iyer      SS Iyer     AK Markram   \n",
       "260917          Sunrisers Hyderabad      VR Iyer      SS Iyer  Shahbaz Ahmed   \n",
       "260918          Sunrisers Hyderabad      SS Iyer      VR Iyer  Shahbaz Ahmed   \n",
       "260919          Sunrisers Hyderabad      VR Iyer      SS Iyer  Shahbaz Ahmed   \n",
       "\n",
       "        batsman_runs  extras  isWide  isNoBall  Byes  LegByes  Penalty  \\\n",
       "0                  0       1     0.0       0.0   0.0      1.0      0.0   \n",
       "1                  0       0     0.0       0.0   0.0      0.0      0.0   \n",
       "2                  0       1     1.0       0.0   0.0      0.0      0.0   \n",
       "3                  0       0     0.0       0.0   0.0      0.0      0.0   \n",
       "4                  0       0     0.0       0.0   0.0      0.0      0.0   \n",
       "...              ...     ...     ...       ...   ...      ...      ...   \n",
       "260915             1       0     0.0       0.0   0.0      0.0      0.0   \n",
       "260916             1       0     0.0       0.0   0.0      0.0      0.0   \n",
       "260917             1       0     0.0       0.0   0.0      0.0      0.0   \n",
       "260918             1       0     0.0       0.0   0.0      0.0      0.0   \n",
       "260919             1       0     0.0       0.0   0.0      0.0      0.0   \n",
       "\n",
       "       dismissal_kind player_dismissed        date  \n",
       "0                 NaN              NaN  2008-04-18  \n",
       "1                 NaN              NaN  2008-04-18  \n",
       "2                 NaN              NaN  2008-04-18  \n",
       "3                 NaN              NaN  2008-04-18  \n",
       "4                 NaN              NaN  2008-04-18  \n",
       "...               ...              ...         ...  \n",
       "260915            NaN              NaN  2024-05-26  \n",
       "260916            NaN              NaN  2024-05-26  \n",
       "260917            NaN              NaN  2024-05-26  \n",
       "260918            NaN              NaN  2024-05-26  \n",
       "260919            NaN              NaN  2024-05-26  \n",
       "\n",
       "[260920 rows x 20 columns]"
      ]
     },
     "execution_count": 79,
     "metadata": {},
     "output_type": "execute_result"
    }
   ],
   "source": [
    "df"
   ]
  },
  {
   "cell_type": "code",
   "execution_count": 80,
   "id": "07b8c9eb",
   "metadata": {},
   "outputs": [
    {
     "data": {
      "text/html": [
       "<div>\n",
       "<style scoped>\n",
       "    .dataframe tbody tr th:only-of-type {\n",
       "        vertical-align: middle;\n",
       "    }\n",
       "\n",
       "    .dataframe tbody tr th {\n",
       "        vertical-align: top;\n",
       "    }\n",
       "\n",
       "    .dataframe thead th {\n",
       "        text-align: right;\n",
       "    }\n",
       "</style>\n",
       "<table border=\"1\" class=\"dataframe\">\n",
       "  <thead>\n",
       "    <tr style=\"text-align: right;\">\n",
       "      <th></th>\n",
       "      <th>matchId</th>\n",
       "      <th>inning</th>\n",
       "      <th>over_ball</th>\n",
       "      <th>over</th>\n",
       "      <th>ball</th>\n",
       "      <th>batting_team</th>\n",
       "      <th>bowling_team</th>\n",
       "      <th>batsman</th>\n",
       "      <th>non_striker</th>\n",
       "      <th>bowler</th>\n",
       "      <th>batsman_runs</th>\n",
       "      <th>extras</th>\n",
       "      <th>isWide</th>\n",
       "      <th>isNoBall</th>\n",
       "      <th>Byes</th>\n",
       "      <th>LegByes</th>\n",
       "      <th>Penalty</th>\n",
       "      <th>dismissal_kind</th>\n",
       "      <th>player_dismissed</th>\n",
       "      <th>date</th>\n",
       "    </tr>\n",
       "  </thead>\n",
       "  <tbody>\n",
       "    <tr>\n",
       "      <th>0</th>\n",
       "      <td>335982</td>\n",
       "      <td>1</td>\n",
       "      <td>0.1</td>\n",
       "      <td>0</td>\n",
       "      <td>1</td>\n",
       "      <td>Kolkata Knight Riders</td>\n",
       "      <td>Royal Challengers Bangalore</td>\n",
       "      <td>SC Ganguly</td>\n",
       "      <td>BB McCullum</td>\n",
       "      <td>P Kumar</td>\n",
       "      <td>0</td>\n",
       "      <td>1</td>\n",
       "      <td>0.0</td>\n",
       "      <td>0.0</td>\n",
       "      <td>0.0</td>\n",
       "      <td>1.0</td>\n",
       "      <td>0.0</td>\n",
       "      <td>NaN</td>\n",
       "      <td>NaN</td>\n",
       "      <td>2008-04-18</td>\n",
       "    </tr>\n",
       "    <tr>\n",
       "      <th>1</th>\n",
       "      <td>335982</td>\n",
       "      <td>1</td>\n",
       "      <td>0.2</td>\n",
       "      <td>0</td>\n",
       "      <td>2</td>\n",
       "      <td>Kolkata Knight Riders</td>\n",
       "      <td>Royal Challengers Bangalore</td>\n",
       "      <td>BB McCullum</td>\n",
       "      <td>SC Ganguly</td>\n",
       "      <td>P Kumar</td>\n",
       "      <td>0</td>\n",
       "      <td>0</td>\n",
       "      <td>0.0</td>\n",
       "      <td>0.0</td>\n",
       "      <td>0.0</td>\n",
       "      <td>0.0</td>\n",
       "      <td>0.0</td>\n",
       "      <td>NaN</td>\n",
       "      <td>NaN</td>\n",
       "      <td>2008-04-18</td>\n",
       "    </tr>\n",
       "    <tr>\n",
       "      <th>2</th>\n",
       "      <td>335982</td>\n",
       "      <td>1</td>\n",
       "      <td>0.3</td>\n",
       "      <td>0</td>\n",
       "      <td>3</td>\n",
       "      <td>Kolkata Knight Riders</td>\n",
       "      <td>Royal Challengers Bangalore</td>\n",
       "      <td>BB McCullum</td>\n",
       "      <td>SC Ganguly</td>\n",
       "      <td>P Kumar</td>\n",
       "      <td>0</td>\n",
       "      <td>1</td>\n",
       "      <td>1.0</td>\n",
       "      <td>0.0</td>\n",
       "      <td>0.0</td>\n",
       "      <td>0.0</td>\n",
       "      <td>0.0</td>\n",
       "      <td>NaN</td>\n",
       "      <td>NaN</td>\n",
       "      <td>2008-04-18</td>\n",
       "    </tr>\n",
       "    <tr>\n",
       "      <th>3</th>\n",
       "      <td>335982</td>\n",
       "      <td>1</td>\n",
       "      <td>0.4</td>\n",
       "      <td>0</td>\n",
       "      <td>4</td>\n",
       "      <td>Kolkata Knight Riders</td>\n",
       "      <td>Royal Challengers Bangalore</td>\n",
       "      <td>BB McCullum</td>\n",
       "      <td>SC Ganguly</td>\n",
       "      <td>P Kumar</td>\n",
       "      <td>0</td>\n",
       "      <td>0</td>\n",
       "      <td>0.0</td>\n",
       "      <td>0.0</td>\n",
       "      <td>0.0</td>\n",
       "      <td>0.0</td>\n",
       "      <td>0.0</td>\n",
       "      <td>NaN</td>\n",
       "      <td>NaN</td>\n",
       "      <td>2008-04-18</td>\n",
       "    </tr>\n",
       "    <tr>\n",
       "      <th>4</th>\n",
       "      <td>335982</td>\n",
       "      <td>1</td>\n",
       "      <td>0.5</td>\n",
       "      <td>0</td>\n",
       "      <td>5</td>\n",
       "      <td>Kolkata Knight Riders</td>\n",
       "      <td>Royal Challengers Bangalore</td>\n",
       "      <td>BB McCullum</td>\n",
       "      <td>SC Ganguly</td>\n",
       "      <td>P Kumar</td>\n",
       "      <td>0</td>\n",
       "      <td>0</td>\n",
       "      <td>0.0</td>\n",
       "      <td>0.0</td>\n",
       "      <td>0.0</td>\n",
       "      <td>0.0</td>\n",
       "      <td>0.0</td>\n",
       "      <td>NaN</td>\n",
       "      <td>NaN</td>\n",
       "      <td>2008-04-18</td>\n",
       "    </tr>\n",
       "    <tr>\n",
       "      <th>5</th>\n",
       "      <td>335982</td>\n",
       "      <td>1</td>\n",
       "      <td>0.6</td>\n",
       "      <td>0</td>\n",
       "      <td>6</td>\n",
       "      <td>Kolkata Knight Riders</td>\n",
       "      <td>Royal Challengers Bangalore</td>\n",
       "      <td>BB McCullum</td>\n",
       "      <td>SC Ganguly</td>\n",
       "      <td>P Kumar</td>\n",
       "      <td>0</td>\n",
       "      <td>0</td>\n",
       "      <td>0.0</td>\n",
       "      <td>0.0</td>\n",
       "      <td>0.0</td>\n",
       "      <td>0.0</td>\n",
       "      <td>0.0</td>\n",
       "      <td>NaN</td>\n",
       "      <td>NaN</td>\n",
       "      <td>2008-04-18</td>\n",
       "    </tr>\n",
       "    <tr>\n",
       "      <th>6</th>\n",
       "      <td>335982</td>\n",
       "      <td>1</td>\n",
       "      <td>0.7</td>\n",
       "      <td>0</td>\n",
       "      <td>7</td>\n",
       "      <td>Kolkata Knight Riders</td>\n",
       "      <td>Royal Challengers Bangalore</td>\n",
       "      <td>BB McCullum</td>\n",
       "      <td>SC Ganguly</td>\n",
       "      <td>P Kumar</td>\n",
       "      <td>0</td>\n",
       "      <td>1</td>\n",
       "      <td>0.0</td>\n",
       "      <td>0.0</td>\n",
       "      <td>0.0</td>\n",
       "      <td>1.0</td>\n",
       "      <td>0.0</td>\n",
       "      <td>NaN</td>\n",
       "      <td>NaN</td>\n",
       "      <td>2008-04-18</td>\n",
       "    </tr>\n",
       "    <tr>\n",
       "      <th>7</th>\n",
       "      <td>335982</td>\n",
       "      <td>1</td>\n",
       "      <td>1.1</td>\n",
       "      <td>1</td>\n",
       "      <td>1</td>\n",
       "      <td>Kolkata Knight Riders</td>\n",
       "      <td>Royal Challengers Bangalore</td>\n",
       "      <td>BB McCullum</td>\n",
       "      <td>SC Ganguly</td>\n",
       "      <td>Z Khan</td>\n",
       "      <td>0</td>\n",
       "      <td>0</td>\n",
       "      <td>0.0</td>\n",
       "      <td>0.0</td>\n",
       "      <td>0.0</td>\n",
       "      <td>0.0</td>\n",
       "      <td>0.0</td>\n",
       "      <td>NaN</td>\n",
       "      <td>NaN</td>\n",
       "      <td>2008-04-18</td>\n",
       "    </tr>\n",
       "    <tr>\n",
       "      <th>8</th>\n",
       "      <td>335982</td>\n",
       "      <td>1</td>\n",
       "      <td>1.2</td>\n",
       "      <td>1</td>\n",
       "      <td>2</td>\n",
       "      <td>Kolkata Knight Riders</td>\n",
       "      <td>Royal Challengers Bangalore</td>\n",
       "      <td>BB McCullum</td>\n",
       "      <td>SC Ganguly</td>\n",
       "      <td>Z Khan</td>\n",
       "      <td>4</td>\n",
       "      <td>0</td>\n",
       "      <td>0.0</td>\n",
       "      <td>0.0</td>\n",
       "      <td>0.0</td>\n",
       "      <td>0.0</td>\n",
       "      <td>0.0</td>\n",
       "      <td>NaN</td>\n",
       "      <td>NaN</td>\n",
       "      <td>2008-04-18</td>\n",
       "    </tr>\n",
       "    <tr>\n",
       "      <th>9</th>\n",
       "      <td>335982</td>\n",
       "      <td>1</td>\n",
       "      <td>1.3</td>\n",
       "      <td>1</td>\n",
       "      <td>3</td>\n",
       "      <td>Kolkata Knight Riders</td>\n",
       "      <td>Royal Challengers Bangalore</td>\n",
       "      <td>BB McCullum</td>\n",
       "      <td>SC Ganguly</td>\n",
       "      <td>Z Khan</td>\n",
       "      <td>4</td>\n",
       "      <td>0</td>\n",
       "      <td>0.0</td>\n",
       "      <td>0.0</td>\n",
       "      <td>0.0</td>\n",
       "      <td>0.0</td>\n",
       "      <td>0.0</td>\n",
       "      <td>NaN</td>\n",
       "      <td>NaN</td>\n",
       "      <td>2008-04-18</td>\n",
       "    </tr>\n",
       "    <tr>\n",
       "      <th>10</th>\n",
       "      <td>335982</td>\n",
       "      <td>1</td>\n",
       "      <td>1.4</td>\n",
       "      <td>1</td>\n",
       "      <td>4</td>\n",
       "      <td>Kolkata Knight Riders</td>\n",
       "      <td>Royal Challengers Bangalore</td>\n",
       "      <td>BB McCullum</td>\n",
       "      <td>SC Ganguly</td>\n",
       "      <td>Z Khan</td>\n",
       "      <td>6</td>\n",
       "      <td>0</td>\n",
       "      <td>0.0</td>\n",
       "      <td>0.0</td>\n",
       "      <td>0.0</td>\n",
       "      <td>0.0</td>\n",
       "      <td>0.0</td>\n",
       "      <td>NaN</td>\n",
       "      <td>NaN</td>\n",
       "      <td>2008-04-18</td>\n",
       "    </tr>\n",
       "    <tr>\n",
       "      <th>11</th>\n",
       "      <td>335982</td>\n",
       "      <td>1</td>\n",
       "      <td>1.5</td>\n",
       "      <td>1</td>\n",
       "      <td>5</td>\n",
       "      <td>Kolkata Knight Riders</td>\n",
       "      <td>Royal Challengers Bangalore</td>\n",
       "      <td>BB McCullum</td>\n",
       "      <td>SC Ganguly</td>\n",
       "      <td>Z Khan</td>\n",
       "      <td>4</td>\n",
       "      <td>0</td>\n",
       "      <td>0.0</td>\n",
       "      <td>0.0</td>\n",
       "      <td>0.0</td>\n",
       "      <td>0.0</td>\n",
       "      <td>0.0</td>\n",
       "      <td>NaN</td>\n",
       "      <td>NaN</td>\n",
       "      <td>2008-04-18</td>\n",
       "    </tr>\n",
       "    <tr>\n",
       "      <th>12</th>\n",
       "      <td>335982</td>\n",
       "      <td>1</td>\n",
       "      <td>1.6</td>\n",
       "      <td>1</td>\n",
       "      <td>6</td>\n",
       "      <td>Kolkata Knight Riders</td>\n",
       "      <td>Royal Challengers Bangalore</td>\n",
       "      <td>BB McCullum</td>\n",
       "      <td>SC Ganguly</td>\n",
       "      <td>Z Khan</td>\n",
       "      <td>0</td>\n",
       "      <td>0</td>\n",
       "      <td>0.0</td>\n",
       "      <td>0.0</td>\n",
       "      <td>0.0</td>\n",
       "      <td>0.0</td>\n",
       "      <td>0.0</td>\n",
       "      <td>NaN</td>\n",
       "      <td>NaN</td>\n",
       "      <td>2008-04-18</td>\n",
       "    </tr>\n",
       "    <tr>\n",
       "      <th>13</th>\n",
       "      <td>335982</td>\n",
       "      <td>1</td>\n",
       "      <td>2.1</td>\n",
       "      <td>2</td>\n",
       "      <td>1</td>\n",
       "      <td>Kolkata Knight Riders</td>\n",
       "      <td>Royal Challengers Bangalore</td>\n",
       "      <td>SC Ganguly</td>\n",
       "      <td>BB McCullum</td>\n",
       "      <td>P Kumar</td>\n",
       "      <td>0</td>\n",
       "      <td>0</td>\n",
       "      <td>0.0</td>\n",
       "      <td>0.0</td>\n",
       "      <td>0.0</td>\n",
       "      <td>0.0</td>\n",
       "      <td>0.0</td>\n",
       "      <td>NaN</td>\n",
       "      <td>NaN</td>\n",
       "      <td>2008-04-18</td>\n",
       "    </tr>\n",
       "    <tr>\n",
       "      <th>14</th>\n",
       "      <td>335982</td>\n",
       "      <td>1</td>\n",
       "      <td>2.2</td>\n",
       "      <td>2</td>\n",
       "      <td>2</td>\n",
       "      <td>Kolkata Knight Riders</td>\n",
       "      <td>Royal Challengers Bangalore</td>\n",
       "      <td>SC Ganguly</td>\n",
       "      <td>BB McCullum</td>\n",
       "      <td>P Kumar</td>\n",
       "      <td>0</td>\n",
       "      <td>0</td>\n",
       "      <td>0.0</td>\n",
       "      <td>0.0</td>\n",
       "      <td>0.0</td>\n",
       "      <td>0.0</td>\n",
       "      <td>0.0</td>\n",
       "      <td>NaN</td>\n",
       "      <td>NaN</td>\n",
       "      <td>2008-04-18</td>\n",
       "    </tr>\n",
       "    <tr>\n",
       "      <th>15</th>\n",
       "      <td>335982</td>\n",
       "      <td>1</td>\n",
       "      <td>2.3</td>\n",
       "      <td>2</td>\n",
       "      <td>3</td>\n",
       "      <td>Kolkata Knight Riders</td>\n",
       "      <td>Royal Challengers Bangalore</td>\n",
       "      <td>SC Ganguly</td>\n",
       "      <td>BB McCullum</td>\n",
       "      <td>P Kumar</td>\n",
       "      <td>0</td>\n",
       "      <td>1</td>\n",
       "      <td>0.0</td>\n",
       "      <td>0.0</td>\n",
       "      <td>0.0</td>\n",
       "      <td>1.0</td>\n",
       "      <td>0.0</td>\n",
       "      <td>NaN</td>\n",
       "      <td>NaN</td>\n",
       "      <td>2008-04-18</td>\n",
       "    </tr>\n",
       "    <tr>\n",
       "      <th>16</th>\n",
       "      <td>335982</td>\n",
       "      <td>1</td>\n",
       "      <td>2.4</td>\n",
       "      <td>2</td>\n",
       "      <td>4</td>\n",
       "      <td>Kolkata Knight Riders</td>\n",
       "      <td>Royal Challengers Bangalore</td>\n",
       "      <td>BB McCullum</td>\n",
       "      <td>SC Ganguly</td>\n",
       "      <td>P Kumar</td>\n",
       "      <td>4</td>\n",
       "      <td>0</td>\n",
       "      <td>0.0</td>\n",
       "      <td>0.0</td>\n",
       "      <td>0.0</td>\n",
       "      <td>0.0</td>\n",
       "      <td>0.0</td>\n",
       "      <td>NaN</td>\n",
       "      <td>NaN</td>\n",
       "      <td>2008-04-18</td>\n",
       "    </tr>\n",
       "    <tr>\n",
       "      <th>17</th>\n",
       "      <td>335982</td>\n",
       "      <td>1</td>\n",
       "      <td>2.5</td>\n",
       "      <td>2</td>\n",
       "      <td>5</td>\n",
       "      <td>Kolkata Knight Riders</td>\n",
       "      <td>Royal Challengers Bangalore</td>\n",
       "      <td>BB McCullum</td>\n",
       "      <td>SC Ganguly</td>\n",
       "      <td>P Kumar</td>\n",
       "      <td>1</td>\n",
       "      <td>0</td>\n",
       "      <td>0.0</td>\n",
       "      <td>0.0</td>\n",
       "      <td>0.0</td>\n",
       "      <td>0.0</td>\n",
       "      <td>0.0</td>\n",
       "      <td>NaN</td>\n",
       "      <td>NaN</td>\n",
       "      <td>2008-04-18</td>\n",
       "    </tr>\n",
       "    <tr>\n",
       "      <th>18</th>\n",
       "      <td>335982</td>\n",
       "      <td>1</td>\n",
       "      <td>2.6</td>\n",
       "      <td>2</td>\n",
       "      <td>6</td>\n",
       "      <td>Kolkata Knight Riders</td>\n",
       "      <td>Royal Challengers Bangalore</td>\n",
       "      <td>SC Ganguly</td>\n",
       "      <td>BB McCullum</td>\n",
       "      <td>P Kumar</td>\n",
       "      <td>0</td>\n",
       "      <td>0</td>\n",
       "      <td>0.0</td>\n",
       "      <td>0.0</td>\n",
       "      <td>0.0</td>\n",
       "      <td>0.0</td>\n",
       "      <td>0.0</td>\n",
       "      <td>NaN</td>\n",
       "      <td>NaN</td>\n",
       "      <td>2008-04-18</td>\n",
       "    </tr>\n",
       "    <tr>\n",
       "      <th>19</th>\n",
       "      <td>335982</td>\n",
       "      <td>1</td>\n",
       "      <td>3.1</td>\n",
       "      <td>3</td>\n",
       "      <td>1</td>\n",
       "      <td>Kolkata Knight Riders</td>\n",
       "      <td>Royal Challengers Bangalore</td>\n",
       "      <td>BB McCullum</td>\n",
       "      <td>SC Ganguly</td>\n",
       "      <td>AA Noffke</td>\n",
       "      <td>0</td>\n",
       "      <td>5</td>\n",
       "      <td>5.0</td>\n",
       "      <td>0.0</td>\n",
       "      <td>0.0</td>\n",
       "      <td>0.0</td>\n",
       "      <td>0.0</td>\n",
       "      <td>NaN</td>\n",
       "      <td>NaN</td>\n",
       "      <td>2008-04-18</td>\n",
       "    </tr>\n",
       "  </tbody>\n",
       "</table>\n",
       "</div>"
      ],
      "text/plain": [
       "    matchId  inning  over_ball  over  ball           batting_team  \\\n",
       "0    335982       1        0.1     0     1  Kolkata Knight Riders   \n",
       "1    335982       1        0.2     0     2  Kolkata Knight Riders   \n",
       "2    335982       1        0.3     0     3  Kolkata Knight Riders   \n",
       "3    335982       1        0.4     0     4  Kolkata Knight Riders   \n",
       "4    335982       1        0.5     0     5  Kolkata Knight Riders   \n",
       "5    335982       1        0.6     0     6  Kolkata Knight Riders   \n",
       "6    335982       1        0.7     0     7  Kolkata Knight Riders   \n",
       "7    335982       1        1.1     1     1  Kolkata Knight Riders   \n",
       "8    335982       1        1.2     1     2  Kolkata Knight Riders   \n",
       "9    335982       1        1.3     1     3  Kolkata Knight Riders   \n",
       "10   335982       1        1.4     1     4  Kolkata Knight Riders   \n",
       "11   335982       1        1.5     1     5  Kolkata Knight Riders   \n",
       "12   335982       1        1.6     1     6  Kolkata Knight Riders   \n",
       "13   335982       1        2.1     2     1  Kolkata Knight Riders   \n",
       "14   335982       1        2.2     2     2  Kolkata Knight Riders   \n",
       "15   335982       1        2.3     2     3  Kolkata Knight Riders   \n",
       "16   335982       1        2.4     2     4  Kolkata Knight Riders   \n",
       "17   335982       1        2.5     2     5  Kolkata Knight Riders   \n",
       "18   335982       1        2.6     2     6  Kolkata Knight Riders   \n",
       "19   335982       1        3.1     3     1  Kolkata Knight Riders   \n",
       "\n",
       "                   bowling_team      batsman  non_striker     bowler  \\\n",
       "0   Royal Challengers Bangalore   SC Ganguly  BB McCullum    P Kumar   \n",
       "1   Royal Challengers Bangalore  BB McCullum   SC Ganguly    P Kumar   \n",
       "2   Royal Challengers Bangalore  BB McCullum   SC Ganguly    P Kumar   \n",
       "3   Royal Challengers Bangalore  BB McCullum   SC Ganguly    P Kumar   \n",
       "4   Royal Challengers Bangalore  BB McCullum   SC Ganguly    P Kumar   \n",
       "5   Royal Challengers Bangalore  BB McCullum   SC Ganguly    P Kumar   \n",
       "6   Royal Challengers Bangalore  BB McCullum   SC Ganguly    P Kumar   \n",
       "7   Royal Challengers Bangalore  BB McCullum   SC Ganguly     Z Khan   \n",
       "8   Royal Challengers Bangalore  BB McCullum   SC Ganguly     Z Khan   \n",
       "9   Royal Challengers Bangalore  BB McCullum   SC Ganguly     Z Khan   \n",
       "10  Royal Challengers Bangalore  BB McCullum   SC Ganguly     Z Khan   \n",
       "11  Royal Challengers Bangalore  BB McCullum   SC Ganguly     Z Khan   \n",
       "12  Royal Challengers Bangalore  BB McCullum   SC Ganguly     Z Khan   \n",
       "13  Royal Challengers Bangalore   SC Ganguly  BB McCullum    P Kumar   \n",
       "14  Royal Challengers Bangalore   SC Ganguly  BB McCullum    P Kumar   \n",
       "15  Royal Challengers Bangalore   SC Ganguly  BB McCullum    P Kumar   \n",
       "16  Royal Challengers Bangalore  BB McCullum   SC Ganguly    P Kumar   \n",
       "17  Royal Challengers Bangalore  BB McCullum   SC Ganguly    P Kumar   \n",
       "18  Royal Challengers Bangalore   SC Ganguly  BB McCullum    P Kumar   \n",
       "19  Royal Challengers Bangalore  BB McCullum   SC Ganguly  AA Noffke   \n",
       "\n",
       "    batsman_runs  extras  isWide  isNoBall  Byes  LegByes  Penalty  \\\n",
       "0              0       1     0.0       0.0   0.0      1.0      0.0   \n",
       "1              0       0     0.0       0.0   0.0      0.0      0.0   \n",
       "2              0       1     1.0       0.0   0.0      0.0      0.0   \n",
       "3              0       0     0.0       0.0   0.0      0.0      0.0   \n",
       "4              0       0     0.0       0.0   0.0      0.0      0.0   \n",
       "5              0       0     0.0       0.0   0.0      0.0      0.0   \n",
       "6              0       1     0.0       0.0   0.0      1.0      0.0   \n",
       "7              0       0     0.0       0.0   0.0      0.0      0.0   \n",
       "8              4       0     0.0       0.0   0.0      0.0      0.0   \n",
       "9              4       0     0.0       0.0   0.0      0.0      0.0   \n",
       "10             6       0     0.0       0.0   0.0      0.0      0.0   \n",
       "11             4       0     0.0       0.0   0.0      0.0      0.0   \n",
       "12             0       0     0.0       0.0   0.0      0.0      0.0   \n",
       "13             0       0     0.0       0.0   0.0      0.0      0.0   \n",
       "14             0       0     0.0       0.0   0.0      0.0      0.0   \n",
       "15             0       1     0.0       0.0   0.0      1.0      0.0   \n",
       "16             4       0     0.0       0.0   0.0      0.0      0.0   \n",
       "17             1       0     0.0       0.0   0.0      0.0      0.0   \n",
       "18             0       0     0.0       0.0   0.0      0.0      0.0   \n",
       "19             0       5     5.0       0.0   0.0      0.0      0.0   \n",
       "\n",
       "   dismissal_kind player_dismissed        date  \n",
       "0             NaN              NaN  2008-04-18  \n",
       "1             NaN              NaN  2008-04-18  \n",
       "2             NaN              NaN  2008-04-18  \n",
       "3             NaN              NaN  2008-04-18  \n",
       "4             NaN              NaN  2008-04-18  \n",
       "5             NaN              NaN  2008-04-18  \n",
       "6             NaN              NaN  2008-04-18  \n",
       "7             NaN              NaN  2008-04-18  \n",
       "8             NaN              NaN  2008-04-18  \n",
       "9             NaN              NaN  2008-04-18  \n",
       "10            NaN              NaN  2008-04-18  \n",
       "11            NaN              NaN  2008-04-18  \n",
       "12            NaN              NaN  2008-04-18  \n",
       "13            NaN              NaN  2008-04-18  \n",
       "14            NaN              NaN  2008-04-18  \n",
       "15            NaN              NaN  2008-04-18  \n",
       "16            NaN              NaN  2008-04-18  \n",
       "17            NaN              NaN  2008-04-18  \n",
       "18            NaN              NaN  2008-04-18  \n",
       "19            NaN              NaN  2008-04-18  "
      ]
     },
     "execution_count": 80,
     "metadata": {},
     "output_type": "execute_result"
    }
   ],
   "source": [
    "df.head(20)"
   ]
  },
  {
   "cell_type": "code",
   "execution_count": 81,
   "id": "38341e9c",
   "metadata": {},
   "outputs": [
    {
     "data": {
      "text/plain": [
       "batting_team\n",
       "Mumbai Indians                 31437\n",
       "Kolkata Knight Riders          29514\n",
       "Chennai Super Kings            28651\n",
       "Royal Challengers Bangalore    28205\n",
       "Rajasthan Royals               26242\n",
       "Kings XI Punjab                22646\n",
       "Sunrisers Hyderabad            21843\n",
       "Delhi Daredevils               18786\n",
       "Delhi Capitals                 10946\n",
       "Deccan Chargers                 9034\n",
       "Punjab Kings                    6833\n",
       "Gujarat Titans                  5494\n",
       "Pune Warriors                   5443\n",
       "Lucknow Super Giants            5400\n",
       "Gujarat Lions                   3566\n",
       "Rising Pune Supergiant          1900\n",
       "Royal Challengers Bengaluru     1818\n",
       "Kochi Tuskers Kerala            1582\n",
       "Rising Pune Supergiants         1580\n",
       "Name: count, dtype: int64"
      ]
     },
     "execution_count": 81,
     "metadata": {},
     "output_type": "execute_result"
    }
   ],
   "source": [
    "df[\"batting_team\"].value_counts()"
   ]
  },
  {
   "cell_type": "code",
   "execution_count": 82,
   "id": "62d209d8",
   "metadata": {},
   "outputs": [
    {
     "data": {
      "text/plain": [
       "batsman\n",
       "V Kohli           6236\n",
       "S Dhawan          5483\n",
       "RG Sharma         5183\n",
       "DA Warner         4849\n",
       "SK Raina          4177\n",
       "                  ... \n",
       "S Kaushik            1\n",
       "NJ Rimmington        1\n",
       "V Pratap Singh       1\n",
       "Sunny Gupta          1\n",
       "Abdul Basith         1\n",
       "Name: count, Length: 674, dtype: int64"
      ]
     },
     "execution_count": 82,
     "metadata": {},
     "output_type": "execute_result"
    }
   ],
   "source": [
    "df[\"batsman\"].value_counts()"
   ]
  },
  {
   "cell_type": "code",
   "execution_count": 83,
   "id": "71f34f75",
   "metadata": {},
   "outputs": [
    {
     "data": {
      "text/html": [
       "<div>\n",
       "<style scoped>\n",
       "    .dataframe tbody tr th:only-of-type {\n",
       "        vertical-align: middle;\n",
       "    }\n",
       "\n",
       "    .dataframe tbody tr th {\n",
       "        vertical-align: top;\n",
       "    }\n",
       "\n",
       "    .dataframe thead th {\n",
       "        text-align: right;\n",
       "    }\n",
       "</style>\n",
       "<table border=\"1\" class=\"dataframe\">\n",
       "  <thead>\n",
       "    <tr style=\"text-align: right;\">\n",
       "      <th></th>\n",
       "      <th>batsman</th>\n",
       "      <th>batsman_runs</th>\n",
       "    </tr>\n",
       "  </thead>\n",
       "  <tbody>\n",
       "    <tr>\n",
       "      <th>0</th>\n",
       "      <td>SC Ganguly</td>\n",
       "      <td>0</td>\n",
       "    </tr>\n",
       "    <tr>\n",
       "      <th>1</th>\n",
       "      <td>BB McCullum</td>\n",
       "      <td>0</td>\n",
       "    </tr>\n",
       "    <tr>\n",
       "      <th>2</th>\n",
       "      <td>BB McCullum</td>\n",
       "      <td>0</td>\n",
       "    </tr>\n",
       "    <tr>\n",
       "      <th>3</th>\n",
       "      <td>BB McCullum</td>\n",
       "      <td>0</td>\n",
       "    </tr>\n",
       "    <tr>\n",
       "      <th>4</th>\n",
       "      <td>BB McCullum</td>\n",
       "      <td>0</td>\n",
       "    </tr>\n",
       "    <tr>\n",
       "      <th>...</th>\n",
       "      <td>...</td>\n",
       "      <td>...</td>\n",
       "    </tr>\n",
       "    <tr>\n",
       "      <th>260915</th>\n",
       "      <td>SS Iyer</td>\n",
       "      <td>1</td>\n",
       "    </tr>\n",
       "    <tr>\n",
       "      <th>260916</th>\n",
       "      <td>VR Iyer</td>\n",
       "      <td>1</td>\n",
       "    </tr>\n",
       "    <tr>\n",
       "      <th>260917</th>\n",
       "      <td>VR Iyer</td>\n",
       "      <td>1</td>\n",
       "    </tr>\n",
       "    <tr>\n",
       "      <th>260918</th>\n",
       "      <td>SS Iyer</td>\n",
       "      <td>1</td>\n",
       "    </tr>\n",
       "    <tr>\n",
       "      <th>260919</th>\n",
       "      <td>VR Iyer</td>\n",
       "      <td>1</td>\n",
       "    </tr>\n",
       "  </tbody>\n",
       "</table>\n",
       "<p>260920 rows × 2 columns</p>\n",
       "</div>"
      ],
      "text/plain": [
       "            batsman  batsman_runs\n",
       "0        SC Ganguly             0\n",
       "1       BB McCullum             0\n",
       "2       BB McCullum             0\n",
       "3       BB McCullum             0\n",
       "4       BB McCullum             0\n",
       "...             ...           ...\n",
       "260915      SS Iyer             1\n",
       "260916      VR Iyer             1\n",
       "260917      VR Iyer             1\n",
       "260918      SS Iyer             1\n",
       "260919      VR Iyer             1\n",
       "\n",
       "[260920 rows x 2 columns]"
      ]
     },
     "execution_count": 83,
     "metadata": {},
     "output_type": "execute_result"
    }
   ],
   "source": [
    "df[[\"batsman\",\"batsman_runs\"]]"
   ]
  },
  {
   "cell_type": "code",
   "execution_count": 84,
   "id": "0493b386",
   "metadata": {},
   "outputs": [],
   "source": [
    "top5_batsmen=pd.DataFrame(df.groupby('batsman')['batsman_runs'].sum().sort_values(ascending=False).head().reset_index())\n"
   ]
  },
  {
   "cell_type": "code",
   "execution_count": 85,
   "id": "8da4a0ba",
   "metadata": {},
   "outputs": [
    {
     "data": {
      "text/html": [
       "<div>\n",
       "<style scoped>\n",
       "    .dataframe tbody tr th:only-of-type {\n",
       "        vertical-align: middle;\n",
       "    }\n",
       "\n",
       "    .dataframe tbody tr th {\n",
       "        vertical-align: top;\n",
       "    }\n",
       "\n",
       "    .dataframe thead th {\n",
       "        text-align: right;\n",
       "    }\n",
       "</style>\n",
       "<table border=\"1\" class=\"dataframe\">\n",
       "  <thead>\n",
       "    <tr style=\"text-align: right;\">\n",
       "      <th></th>\n",
       "      <th>batsman</th>\n",
       "      <th>batsman_runs</th>\n",
       "    </tr>\n",
       "  </thead>\n",
       "  <tbody>\n",
       "    <tr>\n",
       "      <th>0</th>\n",
       "      <td>V Kohli</td>\n",
       "      <td>8014</td>\n",
       "    </tr>\n",
       "    <tr>\n",
       "      <th>1</th>\n",
       "      <td>S Dhawan</td>\n",
       "      <td>6769</td>\n",
       "    </tr>\n",
       "    <tr>\n",
       "      <th>2</th>\n",
       "      <td>RG Sharma</td>\n",
       "      <td>6630</td>\n",
       "    </tr>\n",
       "    <tr>\n",
       "      <th>3</th>\n",
       "      <td>DA Warner</td>\n",
       "      <td>6567</td>\n",
       "    </tr>\n",
       "    <tr>\n",
       "      <th>4</th>\n",
       "      <td>SK Raina</td>\n",
       "      <td>5536</td>\n",
       "    </tr>\n",
       "  </tbody>\n",
       "</table>\n",
       "</div>"
      ],
      "text/plain": [
       "     batsman  batsman_runs\n",
       "0    V Kohli          8014\n",
       "1   S Dhawan          6769\n",
       "2  RG Sharma          6630\n",
       "3  DA Warner          6567\n",
       "4   SK Raina          5536"
      ]
     },
     "execution_count": 85,
     "metadata": {},
     "output_type": "execute_result"
    }
   ],
   "source": [
    "top5_batsmen"
   ]
  },
  {
   "cell_type": "code",
   "execution_count": 86,
   "id": "eae3becf",
   "metadata": {},
   "outputs": [
    {
     "data": {
      "application/vnd.plotly.v1+json": {
       "config": {
        "plotlyServerURL": "https://plot.ly"
       },
       "data": [
        {
         "hovertemplate": "Batsman=%{x}<br>Total Runs=%{y}<extra></extra>",
         "legendgroup": "",
         "marker": {
          "color": "#636efa",
          "pattern": {
           "shape": ""
          }
         },
         "name": "",
         "orientation": "v",
         "showlegend": false,
         "textposition": "auto",
         "type": "bar",
         "x": [
          "V Kohli",
          "S Dhawan",
          "RG Sharma",
          "DA Warner",
          "SK Raina"
         ],
         "xaxis": "x",
         "y": {
          "bdata": "Th9xGuYZpxmgFQ==",
          "dtype": "i2"
         },
         "yaxis": "y"
        }
       ],
       "layout": {
        "barmode": "relative",
        "legend": {
         "tracegroupgap": 0
        },
        "template": {
         "data": {
          "bar": [
           {
            "error_x": {
             "color": "#2a3f5f"
            },
            "error_y": {
             "color": "#2a3f5f"
            },
            "marker": {
             "line": {
              "color": "#E5ECF6",
              "width": 0.5
             },
             "pattern": {
              "fillmode": "overlay",
              "size": 10,
              "solidity": 0.2
             }
            },
            "type": "bar"
           }
          ],
          "barpolar": [
           {
            "marker": {
             "line": {
              "color": "#E5ECF6",
              "width": 0.5
             },
             "pattern": {
              "fillmode": "overlay",
              "size": 10,
              "solidity": 0.2
             }
            },
            "type": "barpolar"
           }
          ],
          "carpet": [
           {
            "aaxis": {
             "endlinecolor": "#2a3f5f",
             "gridcolor": "white",
             "linecolor": "white",
             "minorgridcolor": "white",
             "startlinecolor": "#2a3f5f"
            },
            "baxis": {
             "endlinecolor": "#2a3f5f",
             "gridcolor": "white",
             "linecolor": "white",
             "minorgridcolor": "white",
             "startlinecolor": "#2a3f5f"
            },
            "type": "carpet"
           }
          ],
          "choropleth": [
           {
            "colorbar": {
             "outlinewidth": 0,
             "ticks": ""
            },
            "type": "choropleth"
           }
          ],
          "contour": [
           {
            "colorbar": {
             "outlinewidth": 0,
             "ticks": ""
            },
            "colorscale": [
             [
              0,
              "#0d0887"
             ],
             [
              0.1111111111111111,
              "#46039f"
             ],
             [
              0.2222222222222222,
              "#7201a8"
             ],
             [
              0.3333333333333333,
              "#9c179e"
             ],
             [
              0.4444444444444444,
              "#bd3786"
             ],
             [
              0.5555555555555556,
              "#d8576b"
             ],
             [
              0.6666666666666666,
              "#ed7953"
             ],
             [
              0.7777777777777778,
              "#fb9f3a"
             ],
             [
              0.8888888888888888,
              "#fdca26"
             ],
             [
              1,
              "#f0f921"
             ]
            ],
            "type": "contour"
           }
          ],
          "contourcarpet": [
           {
            "colorbar": {
             "outlinewidth": 0,
             "ticks": ""
            },
            "type": "contourcarpet"
           }
          ],
          "heatmap": [
           {
            "colorbar": {
             "outlinewidth": 0,
             "ticks": ""
            },
            "colorscale": [
             [
              0,
              "#0d0887"
             ],
             [
              0.1111111111111111,
              "#46039f"
             ],
             [
              0.2222222222222222,
              "#7201a8"
             ],
             [
              0.3333333333333333,
              "#9c179e"
             ],
             [
              0.4444444444444444,
              "#bd3786"
             ],
             [
              0.5555555555555556,
              "#d8576b"
             ],
             [
              0.6666666666666666,
              "#ed7953"
             ],
             [
              0.7777777777777778,
              "#fb9f3a"
             ],
             [
              0.8888888888888888,
              "#fdca26"
             ],
             [
              1,
              "#f0f921"
             ]
            ],
            "type": "heatmap"
           }
          ],
          "histogram": [
           {
            "marker": {
             "pattern": {
              "fillmode": "overlay",
              "size": 10,
              "solidity": 0.2
             }
            },
            "type": "histogram"
           }
          ],
          "histogram2d": [
           {
            "colorbar": {
             "outlinewidth": 0,
             "ticks": ""
            },
            "colorscale": [
             [
              0,
              "#0d0887"
             ],
             [
              0.1111111111111111,
              "#46039f"
             ],
             [
              0.2222222222222222,
              "#7201a8"
             ],
             [
              0.3333333333333333,
              "#9c179e"
             ],
             [
              0.4444444444444444,
              "#bd3786"
             ],
             [
              0.5555555555555556,
              "#d8576b"
             ],
             [
              0.6666666666666666,
              "#ed7953"
             ],
             [
              0.7777777777777778,
              "#fb9f3a"
             ],
             [
              0.8888888888888888,
              "#fdca26"
             ],
             [
              1,
              "#f0f921"
             ]
            ],
            "type": "histogram2d"
           }
          ],
          "histogram2dcontour": [
           {
            "colorbar": {
             "outlinewidth": 0,
             "ticks": ""
            },
            "colorscale": [
             [
              0,
              "#0d0887"
             ],
             [
              0.1111111111111111,
              "#46039f"
             ],
             [
              0.2222222222222222,
              "#7201a8"
             ],
             [
              0.3333333333333333,
              "#9c179e"
             ],
             [
              0.4444444444444444,
              "#bd3786"
             ],
             [
              0.5555555555555556,
              "#d8576b"
             ],
             [
              0.6666666666666666,
              "#ed7953"
             ],
             [
              0.7777777777777778,
              "#fb9f3a"
             ],
             [
              0.8888888888888888,
              "#fdca26"
             ],
             [
              1,
              "#f0f921"
             ]
            ],
            "type": "histogram2dcontour"
           }
          ],
          "mesh3d": [
           {
            "colorbar": {
             "outlinewidth": 0,
             "ticks": ""
            },
            "type": "mesh3d"
           }
          ],
          "parcoords": [
           {
            "line": {
             "colorbar": {
              "outlinewidth": 0,
              "ticks": ""
             }
            },
            "type": "parcoords"
           }
          ],
          "pie": [
           {
            "automargin": true,
            "type": "pie"
           }
          ],
          "scatter": [
           {
            "fillpattern": {
             "fillmode": "overlay",
             "size": 10,
             "solidity": 0.2
            },
            "type": "scatter"
           }
          ],
          "scatter3d": [
           {
            "line": {
             "colorbar": {
              "outlinewidth": 0,
              "ticks": ""
             }
            },
            "marker": {
             "colorbar": {
              "outlinewidth": 0,
              "ticks": ""
             }
            },
            "type": "scatter3d"
           }
          ],
          "scattercarpet": [
           {
            "marker": {
             "colorbar": {
              "outlinewidth": 0,
              "ticks": ""
             }
            },
            "type": "scattercarpet"
           }
          ],
          "scattergeo": [
           {
            "marker": {
             "colorbar": {
              "outlinewidth": 0,
              "ticks": ""
             }
            },
            "type": "scattergeo"
           }
          ],
          "scattergl": [
           {
            "marker": {
             "colorbar": {
              "outlinewidth": 0,
              "ticks": ""
             }
            },
            "type": "scattergl"
           }
          ],
          "scattermap": [
           {
            "marker": {
             "colorbar": {
              "outlinewidth": 0,
              "ticks": ""
             }
            },
            "type": "scattermap"
           }
          ],
          "scattermapbox": [
           {
            "marker": {
             "colorbar": {
              "outlinewidth": 0,
              "ticks": ""
             }
            },
            "type": "scattermapbox"
           }
          ],
          "scatterpolar": [
           {
            "marker": {
             "colorbar": {
              "outlinewidth": 0,
              "ticks": ""
             }
            },
            "type": "scatterpolar"
           }
          ],
          "scatterpolargl": [
           {
            "marker": {
             "colorbar": {
              "outlinewidth": 0,
              "ticks": ""
             }
            },
            "type": "scatterpolargl"
           }
          ],
          "scatterternary": [
           {
            "marker": {
             "colorbar": {
              "outlinewidth": 0,
              "ticks": ""
             }
            },
            "type": "scatterternary"
           }
          ],
          "surface": [
           {
            "colorbar": {
             "outlinewidth": 0,
             "ticks": ""
            },
            "colorscale": [
             [
              0,
              "#0d0887"
             ],
             [
              0.1111111111111111,
              "#46039f"
             ],
             [
              0.2222222222222222,
              "#7201a8"
             ],
             [
              0.3333333333333333,
              "#9c179e"
             ],
             [
              0.4444444444444444,
              "#bd3786"
             ],
             [
              0.5555555555555556,
              "#d8576b"
             ],
             [
              0.6666666666666666,
              "#ed7953"
             ],
             [
              0.7777777777777778,
              "#fb9f3a"
             ],
             [
              0.8888888888888888,
              "#fdca26"
             ],
             [
              1,
              "#f0f921"
             ]
            ],
            "type": "surface"
           }
          ],
          "table": [
           {
            "cells": {
             "fill": {
              "color": "#EBF0F8"
             },
             "line": {
              "color": "white"
             }
            },
            "header": {
             "fill": {
              "color": "#C8D4E3"
             },
             "line": {
              "color": "white"
             }
            },
            "type": "table"
           }
          ]
         },
         "layout": {
          "annotationdefaults": {
           "arrowcolor": "#2a3f5f",
           "arrowhead": 0,
           "arrowwidth": 1
          },
          "autotypenumbers": "strict",
          "coloraxis": {
           "colorbar": {
            "outlinewidth": 0,
            "ticks": ""
           }
          },
          "colorscale": {
           "diverging": [
            [
             0,
             "#8e0152"
            ],
            [
             0.1,
             "#c51b7d"
            ],
            [
             0.2,
             "#de77ae"
            ],
            [
             0.3,
             "#f1b6da"
            ],
            [
             0.4,
             "#fde0ef"
            ],
            [
             0.5,
             "#f7f7f7"
            ],
            [
             0.6,
             "#e6f5d0"
            ],
            [
             0.7,
             "#b8e186"
            ],
            [
             0.8,
             "#7fbc41"
            ],
            [
             0.9,
             "#4d9221"
            ],
            [
             1,
             "#276419"
            ]
           ],
           "sequential": [
            [
             0,
             "#0d0887"
            ],
            [
             0.1111111111111111,
             "#46039f"
            ],
            [
             0.2222222222222222,
             "#7201a8"
            ],
            [
             0.3333333333333333,
             "#9c179e"
            ],
            [
             0.4444444444444444,
             "#bd3786"
            ],
            [
             0.5555555555555556,
             "#d8576b"
            ],
            [
             0.6666666666666666,
             "#ed7953"
            ],
            [
             0.7777777777777778,
             "#fb9f3a"
            ],
            [
             0.8888888888888888,
             "#fdca26"
            ],
            [
             1,
             "#f0f921"
            ]
           ],
           "sequentialminus": [
            [
             0,
             "#0d0887"
            ],
            [
             0.1111111111111111,
             "#46039f"
            ],
            [
             0.2222222222222222,
             "#7201a8"
            ],
            [
             0.3333333333333333,
             "#9c179e"
            ],
            [
             0.4444444444444444,
             "#bd3786"
            ],
            [
             0.5555555555555556,
             "#d8576b"
            ],
            [
             0.6666666666666666,
             "#ed7953"
            ],
            [
             0.7777777777777778,
             "#fb9f3a"
            ],
            [
             0.8888888888888888,
             "#fdca26"
            ],
            [
             1,
             "#f0f921"
            ]
           ]
          },
          "colorway": [
           "#636efa",
           "#EF553B",
           "#00cc96",
           "#ab63fa",
           "#FFA15A",
           "#19d3f3",
           "#FF6692",
           "#B6E880",
           "#FF97FF",
           "#FECB52"
          ],
          "font": {
           "color": "#2a3f5f"
          },
          "geo": {
           "bgcolor": "white",
           "lakecolor": "white",
           "landcolor": "#E5ECF6",
           "showlakes": true,
           "showland": true,
           "subunitcolor": "white"
          },
          "hoverlabel": {
           "align": "left"
          },
          "hovermode": "closest",
          "mapbox": {
           "style": "light"
          },
          "paper_bgcolor": "white",
          "plot_bgcolor": "#E5ECF6",
          "polar": {
           "angularaxis": {
            "gridcolor": "white",
            "linecolor": "white",
            "ticks": ""
           },
           "bgcolor": "#E5ECF6",
           "radialaxis": {
            "gridcolor": "white",
            "linecolor": "white",
            "ticks": ""
           }
          },
          "scene": {
           "xaxis": {
            "backgroundcolor": "#E5ECF6",
            "gridcolor": "white",
            "gridwidth": 2,
            "linecolor": "white",
            "showbackground": true,
            "ticks": "",
            "zerolinecolor": "white"
           },
           "yaxis": {
            "backgroundcolor": "#E5ECF6",
            "gridcolor": "white",
            "gridwidth": 2,
            "linecolor": "white",
            "showbackground": true,
            "ticks": "",
            "zerolinecolor": "white"
           },
           "zaxis": {
            "backgroundcolor": "#E5ECF6",
            "gridcolor": "white",
            "gridwidth": 2,
            "linecolor": "white",
            "showbackground": true,
            "ticks": "",
            "zerolinecolor": "white"
           }
          },
          "shapedefaults": {
           "line": {
            "color": "#2a3f5f"
           }
          },
          "ternary": {
           "aaxis": {
            "gridcolor": "white",
            "linecolor": "white",
            "ticks": ""
           },
           "baxis": {
            "gridcolor": "white",
            "linecolor": "white",
            "ticks": ""
           },
           "bgcolor": "#E5ECF6",
           "caxis": {
            "gridcolor": "white",
            "linecolor": "white",
            "ticks": ""
           }
          },
          "title": {
           "x": 0.05
          },
          "xaxis": {
           "automargin": true,
           "gridcolor": "white",
           "linecolor": "white",
           "ticks": "",
           "title": {
            "standoff": 15
           },
           "zerolinecolor": "white",
           "zerolinewidth": 2
          },
          "yaxis": {
           "automargin": true,
           "gridcolor": "white",
           "linecolor": "white",
           "ticks": "",
           "title": {
            "standoff": 15
           },
           "zerolinecolor": "white",
           "zerolinewidth": 2
          }
         }
        },
        "title": {
         "text": "Top 5 Run Scorers"
        },
        "xaxis": {
         "anchor": "y",
         "domain": [
          0,
          1
         ],
         "title": {
          "text": "Batsman"
         }
        },
        "yaxis": {
         "anchor": "x",
         "domain": [
          0,
          1
         ],
         "title": {
          "text": "Total Runs"
         }
        }
       }
      }
     },
     "metadata": {},
     "output_type": "display_data"
    }
   ],
   "source": [
    "fig = px.bar(\n",
    "    top5_batsmen,\n",
    "    x='batsman',\n",
    "    y='batsman_runs',\n",
    "    title='Top 5 Run Scorers',\n",
    "    labels={'batsman': 'Batsman', 'batsman_runs': 'Total Runs'},\n",
    ")\n",
    "fig.show()"
   ]
  },
  {
   "cell_type": "code",
   "execution_count": 87,
   "id": "531bf1cf",
   "metadata": {},
   "outputs": [
    {
     "data": {
      "text/plain": [
       "batsman\n",
       "Yash Dayal           0\n",
       "ND Doshi             0\n",
       "V Pratap Singh       0\n",
       "Mayank Dagar         0\n",
       "U Kaul               0\n",
       "                  ... \n",
       "SK Raina          5536\n",
       "DA Warner         6567\n",
       "RG Sharma         6630\n",
       "S Dhawan          6769\n",
       "V Kohli           8014\n",
       "Name: batsman_runs, Length: 674, dtype: int64"
      ]
     },
     "execution_count": 87,
     "metadata": {},
     "output_type": "execute_result"
    }
   ],
   "source": [
    "df.groupby('batsman')['batsman_runs'].sum().sort_values()"
   ]
  },
  {
   "cell_type": "code",
   "execution_count": 88,
   "id": "93c567d6",
   "metadata": {},
   "outputs": [
    {
     "data": {
      "text/plain": [
       "array([nan, 'caught', 'bowled', 'run out', 'lbw', 'retired hurt',\n",
       "       'stumped', 'caught and bowled', 'hit wicket',\n",
       "       'obstructing the field', 'retired out'], dtype=object)"
      ]
     },
     "execution_count": 88,
     "metadata": {},
     "output_type": "execute_result"
    }
   ],
   "source": [
    "df[\"dismissal_kind\"].unique()"
   ]
  },
  {
   "cell_type": "code",
   "execution_count": 89,
   "id": "909d167b",
   "metadata": {},
   "outputs": [
    {
     "data": {
      "text/html": [
       "<div>\n",
       "<style scoped>\n",
       "    .dataframe tbody tr th:only-of-type {\n",
       "        vertical-align: middle;\n",
       "    }\n",
       "\n",
       "    .dataframe tbody tr th {\n",
       "        vertical-align: top;\n",
       "    }\n",
       "\n",
       "    .dataframe thead th {\n",
       "        text-align: right;\n",
       "    }\n",
       "</style>\n",
       "<table border=\"1\" class=\"dataframe\">\n",
       "  <thead>\n",
       "    <tr style=\"text-align: right;\">\n",
       "      <th></th>\n",
       "      <th>matchId</th>\n",
       "      <th>inning</th>\n",
       "      <th>over_ball</th>\n",
       "      <th>over</th>\n",
       "      <th>ball</th>\n",
       "      <th>batting_team</th>\n",
       "      <th>bowling_team</th>\n",
       "      <th>batsman</th>\n",
       "      <th>non_striker</th>\n",
       "      <th>bowler</th>\n",
       "      <th>batsman_runs</th>\n",
       "      <th>extras</th>\n",
       "      <th>isWide</th>\n",
       "      <th>isNoBall</th>\n",
       "      <th>Byes</th>\n",
       "      <th>LegByes</th>\n",
       "      <th>Penalty</th>\n",
       "      <th>dismissal_kind</th>\n",
       "      <th>player_dismissed</th>\n",
       "      <th>date</th>\n",
       "    </tr>\n",
       "  </thead>\n",
       "  <tbody>\n",
       "    <tr>\n",
       "      <th>33</th>\n",
       "      <td>335982</td>\n",
       "      <td>1</td>\n",
       "      <td>5.2</td>\n",
       "      <td>5</td>\n",
       "      <td>2</td>\n",
       "      <td>Kolkata Knight Riders</td>\n",
       "      <td>Royal Challengers Bangalore</td>\n",
       "      <td>SC Ganguly</td>\n",
       "      <td>BB McCullum</td>\n",
       "      <td>Z Khan</td>\n",
       "      <td>0</td>\n",
       "      <td>0</td>\n",
       "      <td>0.0</td>\n",
       "      <td>0.0</td>\n",
       "      <td>0.0</td>\n",
       "      <td>0.0</td>\n",
       "      <td>0.0</td>\n",
       "      <td>caught</td>\n",
       "      <td>SC Ganguly</td>\n",
       "      <td>2008-04-18</td>\n",
       "    </tr>\n",
       "    <tr>\n",
       "      <th>74</th>\n",
       "      <td>335982</td>\n",
       "      <td>1</td>\n",
       "      <td>12.1</td>\n",
       "      <td>12</td>\n",
       "      <td>1</td>\n",
       "      <td>Kolkata Knight Riders</td>\n",
       "      <td>Royal Challengers Bangalore</td>\n",
       "      <td>RT Ponting</td>\n",
       "      <td>BB McCullum</td>\n",
       "      <td>JH Kallis</td>\n",
       "      <td>0</td>\n",
       "      <td>0</td>\n",
       "      <td>0.0</td>\n",
       "      <td>0.0</td>\n",
       "      <td>0.0</td>\n",
       "      <td>0.0</td>\n",
       "      <td>0.0</td>\n",
       "      <td>caught</td>\n",
       "      <td>RT Ponting</td>\n",
       "      <td>2008-04-18</td>\n",
       "    </tr>\n",
       "    <tr>\n",
       "      <th>106</th>\n",
       "      <td>335982</td>\n",
       "      <td>1</td>\n",
       "      <td>17.1</td>\n",
       "      <td>17</td>\n",
       "      <td>1</td>\n",
       "      <td>Kolkata Knight Riders</td>\n",
       "      <td>Royal Challengers Bangalore</td>\n",
       "      <td>DJ Hussey</td>\n",
       "      <td>BB McCullum</td>\n",
       "      <td>AA Noffke</td>\n",
       "      <td>0</td>\n",
       "      <td>0</td>\n",
       "      <td>0.0</td>\n",
       "      <td>0.0</td>\n",
       "      <td>0.0</td>\n",
       "      <td>0.0</td>\n",
       "      <td>0.0</td>\n",
       "      <td>caught</td>\n",
       "      <td>DJ Hussey</td>\n",
       "      <td>2008-04-18</td>\n",
       "    </tr>\n",
       "    <tr>\n",
       "      <th>131</th>\n",
       "      <td>335982</td>\n",
       "      <td>2</td>\n",
       "      <td>1.1</td>\n",
       "      <td>1</td>\n",
       "      <td>1</td>\n",
       "      <td>Royal Challengers Bangalore</td>\n",
       "      <td>Kolkata Knight Riders</td>\n",
       "      <td>R Dravid</td>\n",
       "      <td>W Jaffer</td>\n",
       "      <td>I Sharma</td>\n",
       "      <td>0</td>\n",
       "      <td>0</td>\n",
       "      <td>0.0</td>\n",
       "      <td>0.0</td>\n",
       "      <td>0.0</td>\n",
       "      <td>0.0</td>\n",
       "      <td>0.0</td>\n",
       "      <td>bowled</td>\n",
       "      <td>R Dravid</td>\n",
       "      <td>2008-04-18</td>\n",
       "    </tr>\n",
       "    <tr>\n",
       "      <th>138</th>\n",
       "      <td>335982</td>\n",
       "      <td>2</td>\n",
       "      <td>2.2</td>\n",
       "      <td>2</td>\n",
       "      <td>2</td>\n",
       "      <td>Royal Challengers Bangalore</td>\n",
       "      <td>Kolkata Knight Riders</td>\n",
       "      <td>V Kohli</td>\n",
       "      <td>W Jaffer</td>\n",
       "      <td>AB Dinda</td>\n",
       "      <td>0</td>\n",
       "      <td>0</td>\n",
       "      <td>0.0</td>\n",
       "      <td>0.0</td>\n",
       "      <td>0.0</td>\n",
       "      <td>0.0</td>\n",
       "      <td>0.0</td>\n",
       "      <td>bowled</td>\n",
       "      <td>V Kohli</td>\n",
       "      <td>2008-04-18</td>\n",
       "    </tr>\n",
       "    <tr>\n",
       "      <th>...</th>\n",
       "      <td>...</td>\n",
       "      <td>...</td>\n",
       "      <td>...</td>\n",
       "      <td>...</td>\n",
       "      <td>...</td>\n",
       "      <td>...</td>\n",
       "      <td>...</td>\n",
       "      <td>...</td>\n",
       "      <td>...</td>\n",
       "      <td>...</td>\n",
       "      <td>...</td>\n",
       "      <td>...</td>\n",
       "      <td>...</td>\n",
       "      <td>...</td>\n",
       "      <td>...</td>\n",
       "      <td>...</td>\n",
       "      <td>...</td>\n",
       "      <td>...</td>\n",
       "      <td>...</td>\n",
       "      <td>...</td>\n",
       "    </tr>\n",
       "    <tr>\n",
       "      <th>260826</th>\n",
       "      <td>1426312</td>\n",
       "      <td>1</td>\n",
       "      <td>14.1</td>\n",
       "      <td>14</td>\n",
       "      <td>1</td>\n",
       "      <td>Sunrisers Hyderabad</td>\n",
       "      <td>Kolkata Knight Riders</td>\n",
       "      <td>H Klaasen</td>\n",
       "      <td>PJ Cummins</td>\n",
       "      <td>Harshit Rana</td>\n",
       "      <td>0</td>\n",
       "      <td>0</td>\n",
       "      <td>0.0</td>\n",
       "      <td>0.0</td>\n",
       "      <td>0.0</td>\n",
       "      <td>0.0</td>\n",
       "      <td>0.0</td>\n",
       "      <td>bowled</td>\n",
       "      <td>H Klaasen</td>\n",
       "      <td>2024-05-26</td>\n",
       "    </tr>\n",
       "    <tr>\n",
       "      <th>260848</th>\n",
       "      <td>1426312</td>\n",
       "      <td>1</td>\n",
       "      <td>17.5</td>\n",
       "      <td>17</td>\n",
       "      <td>5</td>\n",
       "      <td>Sunrisers Hyderabad</td>\n",
       "      <td>Kolkata Knight Riders</td>\n",
       "      <td>JD Unadkat</td>\n",
       "      <td>PJ Cummins</td>\n",
       "      <td>SP Narine</td>\n",
       "      <td>0</td>\n",
       "      <td>0</td>\n",
       "      <td>0.0</td>\n",
       "      <td>0.0</td>\n",
       "      <td>0.0</td>\n",
       "      <td>0.0</td>\n",
       "      <td>0.0</td>\n",
       "      <td>lbw</td>\n",
       "      <td>JD Unadkat</td>\n",
       "      <td>2024-05-26</td>\n",
       "    </tr>\n",
       "    <tr>\n",
       "      <th>260852</th>\n",
       "      <td>1426312</td>\n",
       "      <td>1</td>\n",
       "      <td>18.3</td>\n",
       "      <td>18</td>\n",
       "      <td>3</td>\n",
       "      <td>Sunrisers Hyderabad</td>\n",
       "      <td>Kolkata Knight Riders</td>\n",
       "      <td>PJ Cummins</td>\n",
       "      <td>B Kumar</td>\n",
       "      <td>AD Russell</td>\n",
       "      <td>0</td>\n",
       "      <td>0</td>\n",
       "      <td>0.0</td>\n",
       "      <td>0.0</td>\n",
       "      <td>0.0</td>\n",
       "      <td>0.0</td>\n",
       "      <td>0.0</td>\n",
       "      <td>caught</td>\n",
       "      <td>PJ Cummins</td>\n",
       "      <td>2024-05-26</td>\n",
       "    </tr>\n",
       "    <tr>\n",
       "      <th>260861</th>\n",
       "      <td>1426312</td>\n",
       "      <td>2</td>\n",
       "      <td>1.2</td>\n",
       "      <td>1</td>\n",
       "      <td>2</td>\n",
       "      <td>Kolkata Knight Riders</td>\n",
       "      <td>Sunrisers Hyderabad</td>\n",
       "      <td>SP Narine</td>\n",
       "      <td>Rahmanullah Gurbaz</td>\n",
       "      <td>PJ Cummins</td>\n",
       "      <td>0</td>\n",
       "      <td>0</td>\n",
       "      <td>0.0</td>\n",
       "      <td>0.0</td>\n",
       "      <td>0.0</td>\n",
       "      <td>0.0</td>\n",
       "      <td>0.0</td>\n",
       "      <td>caught</td>\n",
       "      <td>SP Narine</td>\n",
       "      <td>2024-05-26</td>\n",
       "    </tr>\n",
       "    <tr>\n",
       "      <th>260909</th>\n",
       "      <td>1426312</td>\n",
       "      <td>2</td>\n",
       "      <td>8.5</td>\n",
       "      <td>8</td>\n",
       "      <td>5</td>\n",
       "      <td>Kolkata Knight Riders</td>\n",
       "      <td>Sunrisers Hyderabad</td>\n",
       "      <td>Rahmanullah Gurbaz</td>\n",
       "      <td>VR Iyer</td>\n",
       "      <td>Shahbaz Ahmed</td>\n",
       "      <td>0</td>\n",
       "      <td>0</td>\n",
       "      <td>0.0</td>\n",
       "      <td>0.0</td>\n",
       "      <td>0.0</td>\n",
       "      <td>0.0</td>\n",
       "      <td>0.0</td>\n",
       "      <td>lbw</td>\n",
       "      <td>Rahmanullah Gurbaz</td>\n",
       "      <td>2024-05-26</td>\n",
       "    </tr>\n",
       "  </tbody>\n",
       "</table>\n",
       "<p>11815 rows × 20 columns</p>\n",
       "</div>"
      ],
      "text/plain": [
       "        matchId  inning  over_ball  over  ball                 batting_team  \\\n",
       "33       335982       1        5.2     5     2        Kolkata Knight Riders   \n",
       "74       335982       1       12.1    12     1        Kolkata Knight Riders   \n",
       "106      335982       1       17.1    17     1        Kolkata Knight Riders   \n",
       "131      335982       2        1.1     1     1  Royal Challengers Bangalore   \n",
       "138      335982       2        2.2     2     2  Royal Challengers Bangalore   \n",
       "...         ...     ...        ...   ...   ...                          ...   \n",
       "260826  1426312       1       14.1    14     1          Sunrisers Hyderabad   \n",
       "260848  1426312       1       17.5    17     5          Sunrisers Hyderabad   \n",
       "260852  1426312       1       18.3    18     3          Sunrisers Hyderabad   \n",
       "260861  1426312       2        1.2     1     2        Kolkata Knight Riders   \n",
       "260909  1426312       2        8.5     8     5        Kolkata Knight Riders   \n",
       "\n",
       "                       bowling_team             batsman         non_striker  \\\n",
       "33      Royal Challengers Bangalore          SC Ganguly         BB McCullum   \n",
       "74      Royal Challengers Bangalore          RT Ponting         BB McCullum   \n",
       "106     Royal Challengers Bangalore           DJ Hussey         BB McCullum   \n",
       "131           Kolkata Knight Riders            R Dravid            W Jaffer   \n",
       "138           Kolkata Knight Riders             V Kohli            W Jaffer   \n",
       "...                             ...                 ...                 ...   \n",
       "260826        Kolkata Knight Riders           H Klaasen          PJ Cummins   \n",
       "260848        Kolkata Knight Riders          JD Unadkat          PJ Cummins   \n",
       "260852        Kolkata Knight Riders          PJ Cummins             B Kumar   \n",
       "260861          Sunrisers Hyderabad           SP Narine  Rahmanullah Gurbaz   \n",
       "260909          Sunrisers Hyderabad  Rahmanullah Gurbaz             VR Iyer   \n",
       "\n",
       "               bowler  batsman_runs  extras  isWide  isNoBall  Byes  LegByes  \\\n",
       "33             Z Khan             0       0     0.0       0.0   0.0      0.0   \n",
       "74          JH Kallis             0       0     0.0       0.0   0.0      0.0   \n",
       "106         AA Noffke             0       0     0.0       0.0   0.0      0.0   \n",
       "131          I Sharma             0       0     0.0       0.0   0.0      0.0   \n",
       "138          AB Dinda             0       0     0.0       0.0   0.0      0.0   \n",
       "...               ...           ...     ...     ...       ...   ...      ...   \n",
       "260826   Harshit Rana             0       0     0.0       0.0   0.0      0.0   \n",
       "260848      SP Narine             0       0     0.0       0.0   0.0      0.0   \n",
       "260852     AD Russell             0       0     0.0       0.0   0.0      0.0   \n",
       "260861     PJ Cummins             0       0     0.0       0.0   0.0      0.0   \n",
       "260909  Shahbaz Ahmed             0       0     0.0       0.0   0.0      0.0   \n",
       "\n",
       "        Penalty dismissal_kind    player_dismissed        date  \n",
       "33          0.0         caught          SC Ganguly  2008-04-18  \n",
       "74          0.0         caught          RT Ponting  2008-04-18  \n",
       "106         0.0         caught           DJ Hussey  2008-04-18  \n",
       "131         0.0         bowled            R Dravid  2008-04-18  \n",
       "138         0.0         bowled             V Kohli  2008-04-18  \n",
       "...         ...            ...                 ...         ...  \n",
       "260826      0.0         bowled           H Klaasen  2024-05-26  \n",
       "260848      0.0            lbw          JD Unadkat  2024-05-26  \n",
       "260852      0.0         caught          PJ Cummins  2024-05-26  \n",
       "260861      0.0         caught           SP Narine  2024-05-26  \n",
       "260909      0.0            lbw  Rahmanullah Gurbaz  2024-05-26  \n",
       "\n",
       "[11815 rows x 20 columns]"
      ]
     },
     "execution_count": 89,
     "metadata": {},
     "output_type": "execute_result"
    }
   ],
   "source": [
    "bowler_wickets=[\"caught\",\"bowled\",\"lbw\",\"stumped\",\"caught and bowled\",\"hit wicket\"]\n",
    "\n",
    "df[df[\"dismissal_kind\"].isin(bowler_wickets)]\n"
   ]
  },
  {
   "cell_type": "code",
   "execution_count": 90,
   "id": "ec040a1d",
   "metadata": {},
   "outputs": [
    {
     "data": {
      "text/html": [
       "<div>\n",
       "<style scoped>\n",
       "    .dataframe tbody tr th:only-of-type {\n",
       "        vertical-align: middle;\n",
       "    }\n",
       "\n",
       "    .dataframe tbody tr th {\n",
       "        vertical-align: top;\n",
       "    }\n",
       "\n",
       "    .dataframe thead th {\n",
       "        text-align: right;\n",
       "    }\n",
       "</style>\n",
       "<table border=\"1\" class=\"dataframe\">\n",
       "  <thead>\n",
       "    <tr style=\"text-align: right;\">\n",
       "      <th></th>\n",
       "      <th>0</th>\n",
       "      <th>1</th>\n",
       "    </tr>\n",
       "  </thead>\n",
       "  <tbody>\n",
       "    <tr>\n",
       "      <th>0</th>\n",
       "      <td>A Ashish Reddy</td>\n",
       "      <td>matchId  inning  over_ball  over  ball...</td>\n",
       "    </tr>\n",
       "    <tr>\n",
       "      <th>1</th>\n",
       "      <td>A Badoni</td>\n",
       "      <td>matchId  inning  over_ball  over  ball...</td>\n",
       "    </tr>\n",
       "    <tr>\n",
       "      <th>2</th>\n",
       "      <td>A Chandila</td>\n",
       "      <td>matchId  inning  over_ball  over  ball ...</td>\n",
       "    </tr>\n",
       "    <tr>\n",
       "      <th>3</th>\n",
       "      <td>A Choudhary</td>\n",
       "      <td>matchId  inning  over_ball  over  ball...</td>\n",
       "    </tr>\n",
       "    <tr>\n",
       "      <th>4</th>\n",
       "      <td>A Dananjaya</td>\n",
       "      <td>matchId  inning  over_ball  over  ball...</td>\n",
       "    </tr>\n",
       "    <tr>\n",
       "      <th>...</th>\n",
       "      <td>...</td>\n",
       "      <td>...</td>\n",
       "    </tr>\n",
       "    <tr>\n",
       "      <th>526</th>\n",
       "      <td>Yash Dayal</td>\n",
       "      <td>matchId  inning  over_ball  over  ball...</td>\n",
       "    </tr>\n",
       "    <tr>\n",
       "      <th>527</th>\n",
       "      <td>Yash Thakur</td>\n",
       "      <td>matchId  inning  over_ball  over  ball...</td>\n",
       "    </tr>\n",
       "    <tr>\n",
       "      <th>528</th>\n",
       "      <td>Yudhvir Singh</td>\n",
       "      <td>matchId  inning  over_ball  over  ball...</td>\n",
       "    </tr>\n",
       "    <tr>\n",
       "      <th>529</th>\n",
       "      <td>Yuvraj Singh</td>\n",
       "      <td>matchId  inning  over_ball  over  ball...</td>\n",
       "    </tr>\n",
       "    <tr>\n",
       "      <th>530</th>\n",
       "      <td>Z Khan</td>\n",
       "      <td>matchId  inning  over_ball  over  ball...</td>\n",
       "    </tr>\n",
       "  </tbody>\n",
       "</table>\n",
       "<p>531 rows × 2 columns</p>\n",
       "</div>"
      ],
      "text/plain": [
       "                  0                                                  1\n",
       "0    A Ashish Reddy          matchId  inning  over_ball  over  ball...\n",
       "1          A Badoni          matchId  inning  over_ball  over  ball...\n",
       "2        A Chandila         matchId  inning  over_ball  over  ball ...\n",
       "3       A Choudhary          matchId  inning  over_ball  over  ball...\n",
       "4       A Dananjaya          matchId  inning  over_ball  over  ball...\n",
       "..              ...                                                ...\n",
       "526      Yash Dayal          matchId  inning  over_ball  over  ball...\n",
       "527     Yash Thakur          matchId  inning  over_ball  over  ball...\n",
       "528   Yudhvir Singh          matchId  inning  over_ball  over  ball...\n",
       "529    Yuvraj Singh          matchId  inning  over_ball  over  ball...\n",
       "530          Z Khan          matchId  inning  over_ball  over  ball...\n",
       "\n",
       "[531 rows x 2 columns]"
      ]
     },
     "execution_count": 90,
     "metadata": {},
     "output_type": "execute_result"
    }
   ],
   "source": [
    "pd.DataFrame(df.groupby(\"bowler\"))"
   ]
  },
  {
   "cell_type": "code",
   "execution_count": 91,
   "id": "b46a1c34",
   "metadata": {},
   "outputs": [],
   "source": [
    "#top5_batsmen=pd.DataFrame(df.groupby('batsman')['batsman_runs'].sum().sort_values(ascending=False).head().reset_index())\n",
    "\n",
    "#pd.DataFrame(df.groupby('batsman')[\"batsman_runs\"].sum())\n",
    "\n",
    "top_wicket_takers=pd.DataFrame(df[df[\"dismissal_kind\"].isin(bowler_wickets)].groupby(\"bowler\")[\"player_dismissed\"].count().sort_values(ascending=False).head())"
   ]
  },
  {
   "cell_type": "code",
   "execution_count": 92,
   "id": "05513634",
   "metadata": {},
   "outputs": [
    {
     "data": {
      "text/html": [
       "<div>\n",
       "<style scoped>\n",
       "    .dataframe tbody tr th:only-of-type {\n",
       "        vertical-align: middle;\n",
       "    }\n",
       "\n",
       "    .dataframe tbody tr th {\n",
       "        vertical-align: top;\n",
       "    }\n",
       "\n",
       "    .dataframe thead th {\n",
       "        text-align: right;\n",
       "    }\n",
       "</style>\n",
       "<table border=\"1\" class=\"dataframe\">\n",
       "  <thead>\n",
       "    <tr style=\"text-align: right;\">\n",
       "      <th></th>\n",
       "      <th>player_dismissed</th>\n",
       "    </tr>\n",
       "    <tr>\n",
       "      <th>bowler</th>\n",
       "      <th></th>\n",
       "    </tr>\n",
       "  </thead>\n",
       "  <tbody>\n",
       "    <tr>\n",
       "      <th>YS Chahal</th>\n",
       "      <td>205</td>\n",
       "    </tr>\n",
       "    <tr>\n",
       "      <th>PP Chawla</th>\n",
       "      <td>192</td>\n",
       "    </tr>\n",
       "    <tr>\n",
       "      <th>DJ Bravo</th>\n",
       "      <td>183</td>\n",
       "    </tr>\n",
       "    <tr>\n",
       "      <th>B Kumar</th>\n",
       "      <td>181</td>\n",
       "    </tr>\n",
       "    <tr>\n",
       "      <th>SP Narine</th>\n",
       "      <td>180</td>\n",
       "    </tr>\n",
       "  </tbody>\n",
       "</table>\n",
       "</div>"
      ],
      "text/plain": [
       "           player_dismissed\n",
       "bowler                     \n",
       "YS Chahal               205\n",
       "PP Chawla               192\n",
       "DJ Bravo                183\n",
       "B Kumar                 181\n",
       "SP Narine               180"
      ]
     },
     "execution_count": 92,
     "metadata": {},
     "output_type": "execute_result"
    }
   ],
   "source": [
    "top_wicket_takers"
   ]
  },
  {
   "cell_type": "code",
   "execution_count": 93,
   "id": "568ddbf6",
   "metadata": {},
   "outputs": [
    {
     "data": {
      "application/vnd.plotly.v1+json": {
       "config": {
        "plotlyServerURL": "https://plot.ly"
       },
       "data": [
        {
         "hovertemplate": "bowler=%{x}<br>Wickets=%{y}<extra></extra>",
         "legendgroup": "",
         "marker": {
          "color": "#636efa",
          "pattern": {
           "shape": ""
          }
         },
         "name": "",
         "orientation": "v",
         "showlegend": false,
         "textposition": "auto",
         "type": "bar",
         "x": [
          "YS Chahal",
          "PP Chawla",
          "DJ Bravo",
          "B Kumar",
          "SP Narine"
         ],
         "xaxis": "x",
         "y": {
          "bdata": "zQDAALcAtQC0AA==",
          "dtype": "i2"
         },
         "yaxis": "y"
        }
       ],
       "layout": {
        "barmode": "relative",
        "legend": {
         "tracegroupgap": 0
        },
        "template": {
         "data": {
          "bar": [
           {
            "error_x": {
             "color": "#2a3f5f"
            },
            "error_y": {
             "color": "#2a3f5f"
            },
            "marker": {
             "line": {
              "color": "#E5ECF6",
              "width": 0.5
             },
             "pattern": {
              "fillmode": "overlay",
              "size": 10,
              "solidity": 0.2
             }
            },
            "type": "bar"
           }
          ],
          "barpolar": [
           {
            "marker": {
             "line": {
              "color": "#E5ECF6",
              "width": 0.5
             },
             "pattern": {
              "fillmode": "overlay",
              "size": 10,
              "solidity": 0.2
             }
            },
            "type": "barpolar"
           }
          ],
          "carpet": [
           {
            "aaxis": {
             "endlinecolor": "#2a3f5f",
             "gridcolor": "white",
             "linecolor": "white",
             "minorgridcolor": "white",
             "startlinecolor": "#2a3f5f"
            },
            "baxis": {
             "endlinecolor": "#2a3f5f",
             "gridcolor": "white",
             "linecolor": "white",
             "minorgridcolor": "white",
             "startlinecolor": "#2a3f5f"
            },
            "type": "carpet"
           }
          ],
          "choropleth": [
           {
            "colorbar": {
             "outlinewidth": 0,
             "ticks": ""
            },
            "type": "choropleth"
           }
          ],
          "contour": [
           {
            "colorbar": {
             "outlinewidth": 0,
             "ticks": ""
            },
            "colorscale": [
             [
              0,
              "#0d0887"
             ],
             [
              0.1111111111111111,
              "#46039f"
             ],
             [
              0.2222222222222222,
              "#7201a8"
             ],
             [
              0.3333333333333333,
              "#9c179e"
             ],
             [
              0.4444444444444444,
              "#bd3786"
             ],
             [
              0.5555555555555556,
              "#d8576b"
             ],
             [
              0.6666666666666666,
              "#ed7953"
             ],
             [
              0.7777777777777778,
              "#fb9f3a"
             ],
             [
              0.8888888888888888,
              "#fdca26"
             ],
             [
              1,
              "#f0f921"
             ]
            ],
            "type": "contour"
           }
          ],
          "contourcarpet": [
           {
            "colorbar": {
             "outlinewidth": 0,
             "ticks": ""
            },
            "type": "contourcarpet"
           }
          ],
          "heatmap": [
           {
            "colorbar": {
             "outlinewidth": 0,
             "ticks": ""
            },
            "colorscale": [
             [
              0,
              "#0d0887"
             ],
             [
              0.1111111111111111,
              "#46039f"
             ],
             [
              0.2222222222222222,
              "#7201a8"
             ],
             [
              0.3333333333333333,
              "#9c179e"
             ],
             [
              0.4444444444444444,
              "#bd3786"
             ],
             [
              0.5555555555555556,
              "#d8576b"
             ],
             [
              0.6666666666666666,
              "#ed7953"
             ],
             [
              0.7777777777777778,
              "#fb9f3a"
             ],
             [
              0.8888888888888888,
              "#fdca26"
             ],
             [
              1,
              "#f0f921"
             ]
            ],
            "type": "heatmap"
           }
          ],
          "histogram": [
           {
            "marker": {
             "pattern": {
              "fillmode": "overlay",
              "size": 10,
              "solidity": 0.2
             }
            },
            "type": "histogram"
           }
          ],
          "histogram2d": [
           {
            "colorbar": {
             "outlinewidth": 0,
             "ticks": ""
            },
            "colorscale": [
             [
              0,
              "#0d0887"
             ],
             [
              0.1111111111111111,
              "#46039f"
             ],
             [
              0.2222222222222222,
              "#7201a8"
             ],
             [
              0.3333333333333333,
              "#9c179e"
             ],
             [
              0.4444444444444444,
              "#bd3786"
             ],
             [
              0.5555555555555556,
              "#d8576b"
             ],
             [
              0.6666666666666666,
              "#ed7953"
             ],
             [
              0.7777777777777778,
              "#fb9f3a"
             ],
             [
              0.8888888888888888,
              "#fdca26"
             ],
             [
              1,
              "#f0f921"
             ]
            ],
            "type": "histogram2d"
           }
          ],
          "histogram2dcontour": [
           {
            "colorbar": {
             "outlinewidth": 0,
             "ticks": ""
            },
            "colorscale": [
             [
              0,
              "#0d0887"
             ],
             [
              0.1111111111111111,
              "#46039f"
             ],
             [
              0.2222222222222222,
              "#7201a8"
             ],
             [
              0.3333333333333333,
              "#9c179e"
             ],
             [
              0.4444444444444444,
              "#bd3786"
             ],
             [
              0.5555555555555556,
              "#d8576b"
             ],
             [
              0.6666666666666666,
              "#ed7953"
             ],
             [
              0.7777777777777778,
              "#fb9f3a"
             ],
             [
              0.8888888888888888,
              "#fdca26"
             ],
             [
              1,
              "#f0f921"
             ]
            ],
            "type": "histogram2dcontour"
           }
          ],
          "mesh3d": [
           {
            "colorbar": {
             "outlinewidth": 0,
             "ticks": ""
            },
            "type": "mesh3d"
           }
          ],
          "parcoords": [
           {
            "line": {
             "colorbar": {
              "outlinewidth": 0,
              "ticks": ""
             }
            },
            "type": "parcoords"
           }
          ],
          "pie": [
           {
            "automargin": true,
            "type": "pie"
           }
          ],
          "scatter": [
           {
            "fillpattern": {
             "fillmode": "overlay",
             "size": 10,
             "solidity": 0.2
            },
            "type": "scatter"
           }
          ],
          "scatter3d": [
           {
            "line": {
             "colorbar": {
              "outlinewidth": 0,
              "ticks": ""
             }
            },
            "marker": {
             "colorbar": {
              "outlinewidth": 0,
              "ticks": ""
             }
            },
            "type": "scatter3d"
           }
          ],
          "scattercarpet": [
           {
            "marker": {
             "colorbar": {
              "outlinewidth": 0,
              "ticks": ""
             }
            },
            "type": "scattercarpet"
           }
          ],
          "scattergeo": [
           {
            "marker": {
             "colorbar": {
              "outlinewidth": 0,
              "ticks": ""
             }
            },
            "type": "scattergeo"
           }
          ],
          "scattergl": [
           {
            "marker": {
             "colorbar": {
              "outlinewidth": 0,
              "ticks": ""
             }
            },
            "type": "scattergl"
           }
          ],
          "scattermap": [
           {
            "marker": {
             "colorbar": {
              "outlinewidth": 0,
              "ticks": ""
             }
            },
            "type": "scattermap"
           }
          ],
          "scattermapbox": [
           {
            "marker": {
             "colorbar": {
              "outlinewidth": 0,
              "ticks": ""
             }
            },
            "type": "scattermapbox"
           }
          ],
          "scatterpolar": [
           {
            "marker": {
             "colorbar": {
              "outlinewidth": 0,
              "ticks": ""
             }
            },
            "type": "scatterpolar"
           }
          ],
          "scatterpolargl": [
           {
            "marker": {
             "colorbar": {
              "outlinewidth": 0,
              "ticks": ""
             }
            },
            "type": "scatterpolargl"
           }
          ],
          "scatterternary": [
           {
            "marker": {
             "colorbar": {
              "outlinewidth": 0,
              "ticks": ""
             }
            },
            "type": "scatterternary"
           }
          ],
          "surface": [
           {
            "colorbar": {
             "outlinewidth": 0,
             "ticks": ""
            },
            "colorscale": [
             [
              0,
              "#0d0887"
             ],
             [
              0.1111111111111111,
              "#46039f"
             ],
             [
              0.2222222222222222,
              "#7201a8"
             ],
             [
              0.3333333333333333,
              "#9c179e"
             ],
             [
              0.4444444444444444,
              "#bd3786"
             ],
             [
              0.5555555555555556,
              "#d8576b"
             ],
             [
              0.6666666666666666,
              "#ed7953"
             ],
             [
              0.7777777777777778,
              "#fb9f3a"
             ],
             [
              0.8888888888888888,
              "#fdca26"
             ],
             [
              1,
              "#f0f921"
             ]
            ],
            "type": "surface"
           }
          ],
          "table": [
           {
            "cells": {
             "fill": {
              "color": "#EBF0F8"
             },
             "line": {
              "color": "white"
             }
            },
            "header": {
             "fill": {
              "color": "#C8D4E3"
             },
             "line": {
              "color": "white"
             }
            },
            "type": "table"
           }
          ]
         },
         "layout": {
          "annotationdefaults": {
           "arrowcolor": "#2a3f5f",
           "arrowhead": 0,
           "arrowwidth": 1
          },
          "autotypenumbers": "strict",
          "coloraxis": {
           "colorbar": {
            "outlinewidth": 0,
            "ticks": ""
           }
          },
          "colorscale": {
           "diverging": [
            [
             0,
             "#8e0152"
            ],
            [
             0.1,
             "#c51b7d"
            ],
            [
             0.2,
             "#de77ae"
            ],
            [
             0.3,
             "#f1b6da"
            ],
            [
             0.4,
             "#fde0ef"
            ],
            [
             0.5,
             "#f7f7f7"
            ],
            [
             0.6,
             "#e6f5d0"
            ],
            [
             0.7,
             "#b8e186"
            ],
            [
             0.8,
             "#7fbc41"
            ],
            [
             0.9,
             "#4d9221"
            ],
            [
             1,
             "#276419"
            ]
           ],
           "sequential": [
            [
             0,
             "#0d0887"
            ],
            [
             0.1111111111111111,
             "#46039f"
            ],
            [
             0.2222222222222222,
             "#7201a8"
            ],
            [
             0.3333333333333333,
             "#9c179e"
            ],
            [
             0.4444444444444444,
             "#bd3786"
            ],
            [
             0.5555555555555556,
             "#d8576b"
            ],
            [
             0.6666666666666666,
             "#ed7953"
            ],
            [
             0.7777777777777778,
             "#fb9f3a"
            ],
            [
             0.8888888888888888,
             "#fdca26"
            ],
            [
             1,
             "#f0f921"
            ]
           ],
           "sequentialminus": [
            [
             0,
             "#0d0887"
            ],
            [
             0.1111111111111111,
             "#46039f"
            ],
            [
             0.2222222222222222,
             "#7201a8"
            ],
            [
             0.3333333333333333,
             "#9c179e"
            ],
            [
             0.4444444444444444,
             "#bd3786"
            ],
            [
             0.5555555555555556,
             "#d8576b"
            ],
            [
             0.6666666666666666,
             "#ed7953"
            ],
            [
             0.7777777777777778,
             "#fb9f3a"
            ],
            [
             0.8888888888888888,
             "#fdca26"
            ],
            [
             1,
             "#f0f921"
            ]
           ]
          },
          "colorway": [
           "#636efa",
           "#EF553B",
           "#00cc96",
           "#ab63fa",
           "#FFA15A",
           "#19d3f3",
           "#FF6692",
           "#B6E880",
           "#FF97FF",
           "#FECB52"
          ],
          "font": {
           "color": "#2a3f5f"
          },
          "geo": {
           "bgcolor": "white",
           "lakecolor": "white",
           "landcolor": "#E5ECF6",
           "showlakes": true,
           "showland": true,
           "subunitcolor": "white"
          },
          "hoverlabel": {
           "align": "left"
          },
          "hovermode": "closest",
          "mapbox": {
           "style": "light"
          },
          "paper_bgcolor": "white",
          "plot_bgcolor": "#E5ECF6",
          "polar": {
           "angularaxis": {
            "gridcolor": "white",
            "linecolor": "white",
            "ticks": ""
           },
           "bgcolor": "#E5ECF6",
           "radialaxis": {
            "gridcolor": "white",
            "linecolor": "white",
            "ticks": ""
           }
          },
          "scene": {
           "xaxis": {
            "backgroundcolor": "#E5ECF6",
            "gridcolor": "white",
            "gridwidth": 2,
            "linecolor": "white",
            "showbackground": true,
            "ticks": "",
            "zerolinecolor": "white"
           },
           "yaxis": {
            "backgroundcolor": "#E5ECF6",
            "gridcolor": "white",
            "gridwidth": 2,
            "linecolor": "white",
            "showbackground": true,
            "ticks": "",
            "zerolinecolor": "white"
           },
           "zaxis": {
            "backgroundcolor": "#E5ECF6",
            "gridcolor": "white",
            "gridwidth": 2,
            "linecolor": "white",
            "showbackground": true,
            "ticks": "",
            "zerolinecolor": "white"
           }
          },
          "shapedefaults": {
           "line": {
            "color": "#2a3f5f"
           }
          },
          "ternary": {
           "aaxis": {
            "gridcolor": "white",
            "linecolor": "white",
            "ticks": ""
           },
           "baxis": {
            "gridcolor": "white",
            "linecolor": "white",
            "ticks": ""
           },
           "bgcolor": "#E5ECF6",
           "caxis": {
            "gridcolor": "white",
            "linecolor": "white",
            "ticks": ""
           }
          },
          "title": {
           "x": 0.05
          },
          "xaxis": {
           "automargin": true,
           "gridcolor": "white",
           "linecolor": "white",
           "ticks": "",
           "title": {
            "standoff": 15
           },
           "zerolinecolor": "white",
           "zerolinewidth": 2
          },
          "yaxis": {
           "automargin": true,
           "gridcolor": "white",
           "linecolor": "white",
           "ticks": "",
           "title": {
            "standoff": 15
           },
           "zerolinecolor": "white",
           "zerolinewidth": 2
          }
         }
        },
        "title": {
         "text": "Top 5 Wicket Takers"
        },
        "xaxis": {
         "anchor": "y",
         "domain": [
          0,
          1
         ],
         "title": {
          "text": "bowler"
         }
        },
        "yaxis": {
         "anchor": "x",
         "domain": [
          0,
          1
         ],
         "title": {
          "text": "Wickets"
         }
        }
       }
      }
     },
     "metadata": {},
     "output_type": "display_data"
    }
   ],
   "source": [
    "import plotly.express as px\n",
    "\n",
    "fig = px.bar(\n",
    "    top_wicket_takers.reset_index(),\n",
    "    x=\"bowler\",\n",
    "    y=\"player_dismissed\",\n",
    "    title=\"Top 5 Wicket Takers\",\n",
    "    labels={\"player_dismissed\":\"Wickets\"}\n",
    ")\n",
    "fig.show()"
   ]
  },
  {
   "cell_type": "code",
   "execution_count": 94,
   "id": "884ff747",
   "metadata": {},
   "outputs": [
    {
     "data": {
      "text/html": [
       "<div>\n",
       "<style scoped>\n",
       "    .dataframe tbody tr th:only-of-type {\n",
       "        vertical-align: middle;\n",
       "    }\n",
       "\n",
       "    .dataframe tbody tr th {\n",
       "        vertical-align: top;\n",
       "    }\n",
       "\n",
       "    .dataframe thead th {\n",
       "        text-align: right;\n",
       "    }\n",
       "</style>\n",
       "<table border=\"1\" class=\"dataframe\">\n",
       "  <thead>\n",
       "    <tr style=\"text-align: right;\">\n",
       "      <th></th>\n",
       "      <th>player_dismissed</th>\n",
       "    </tr>\n",
       "    <tr>\n",
       "      <th>bowler</th>\n",
       "      <th></th>\n",
       "    </tr>\n",
       "  </thead>\n",
       "  <tbody>\n",
       "    <tr>\n",
       "      <th>YS Chahal</th>\n",
       "      <td>205</td>\n",
       "    </tr>\n",
       "    <tr>\n",
       "      <th>PP Chawla</th>\n",
       "      <td>192</td>\n",
       "    </tr>\n",
       "    <tr>\n",
       "      <th>DJ Bravo</th>\n",
       "      <td>183</td>\n",
       "    </tr>\n",
       "    <tr>\n",
       "      <th>B Kumar</th>\n",
       "      <td>181</td>\n",
       "    </tr>\n",
       "    <tr>\n",
       "      <th>SP Narine</th>\n",
       "      <td>180</td>\n",
       "    </tr>\n",
       "  </tbody>\n",
       "</table>\n",
       "</div>"
      ],
      "text/plain": [
       "           player_dismissed\n",
       "bowler                     \n",
       "YS Chahal               205\n",
       "PP Chawla               192\n",
       "DJ Bravo                183\n",
       "B Kumar                 181\n",
       "SP Narine               180"
      ]
     },
     "execution_count": 94,
     "metadata": {},
     "output_type": "execute_result"
    }
   ],
   "source": [
    "top_wicket_takers"
   ]
  },
  {
   "cell_type": "code",
   "execution_count": 95,
   "id": "60a87c38",
   "metadata": {},
   "outputs": [
    {
     "name": "stdout",
     "output_type": "stream",
     "text": [
      "           wickets  runs_conceded  balls  matches   economy\n",
      "bowler                                                     \n",
      "YS Chahal      213           4478   3628      159  7.405733\n",
      "DJ Bravo       207           4178   3296      158  7.605583\n",
      "PP Chawla      201           5027   3895      191  7.743774\n",
      "SP Narine      200           4492   4146      175  6.500724\n",
      "B Kumar        195           4744   4060      176  7.010837\n"
     ]
    }
   ],
   "source": [
    "bowler_wickets = [\"caught\", \"bowled\", \"lbw\", \"stumped\", \"caught and bowled\", \"hit wicket\"]\n",
    "\n",
    "# Step 1: Filter only bowler wickets\n",
    "bowler_dismissals = df[df[\"dismissal_kind\"].isin(bowler_wickets)]\n",
    "\n",
    "# Step 2: Get top 5 wicket takers\n",
    "top5_bowlers = (\n",
    "    bowler_dismissals.groupby(\"bowler\")[\"player_dismissed\"]\n",
    "    .count()\n",
    "    .sort_values(ascending=False)\n",
    "    .head(5)\n",
    "    .index\n",
    ")\n",
    "\n",
    "# Step 3: Filter dataset for only those top 5 bowlers\n",
    "df_top5 = df[df[\"bowler\"].isin(top5_bowlers)]\n",
    "\n",
    "# Step 4: Calculate wickets, economy, matches\n",
    "summary = (\n",
    "    df_top5.groupby(\"bowler\")\n",
    "    .agg(\n",
    "        wickets=(\"player_dismissed\", lambda x: x.notna().sum()),   # total wickets\n",
    "        runs_conceded=(\"batsman_runs\", \"sum\"),                                # total runs conceded\n",
    "        balls=(\"ball\", \"count\"),                                   # total balls bowled\n",
    "        matches=(\"matchId\", \"nunique\")                            # matches played\n",
    "    )\n",
    ")\n",
    "\n",
    "# Step 5: Economy = runs per over (6 balls)\n",
    "summary[\"economy\"] = summary[\"runs_conceded\"] / (summary[\"balls\"] / 6)\n",
    "\n",
    "# Optional: Sort by wickets\n",
    "summary = summary.sort_values(by=\"wickets\", ascending=False)\n",
    "\n",
    "print(summary)\n"
   ]
  },
  {
   "cell_type": "code",
   "execution_count": 96,
   "id": "0aafdd5d",
   "metadata": {},
   "outputs": [
    {
     "name": "stdout",
     "output_type": "stream",
     "text": [
      "           wickets  matches_played   economy\n",
      "bowler                                      \n",
      "YS Chahal      205             120  7.405733\n",
      "PP Chawla      192             126  7.743774\n",
      "DJ Bravo       183             110  7.605583\n",
      "B Kumar        181             111  7.010837\n",
      "SP Narine      180             111  6.500724\n"
     ]
    }
   ],
   "source": [
    "bowler_wicket_kinds = [\n",
    "    \"caught\", \n",
    "    \"bowled\", \n",
    "    \"lbw\", \n",
    "    \"stumped\", \n",
    "    \"caught and bowled\", \n",
    "    \"hit wicket\"\n",
    "]\n",
    "\n",
    "top_bowlers = (\n",
    "    df[df[\"dismissal_kind\"].isin(bowler_wicket_kinds)]\n",
    "    .groupby(\"bowler\")\n",
    "    .agg(\n",
    "        wickets=(\"player_dismissed\", lambda x: x.notna().sum()),\n",
    "        # runs_conceded=(\"batsman_runs\", \"sum\"),\n",
    "        matches_played=(\"matchId\", \"nunique\")\n",
    "    )\n",
    ")\n",
    "\n",
    "# Calculate economy rate\n",
    "top_bowlers[\"economy\"] = summary[\"runs_conceded\"] / (df.groupby(\"bowler\")[\"over\"].count() / 6)\n",
    "\n",
    "# Top 5 wicket takers\n",
    "top_bowlers = top_bowlers.sort_values(by=\"wickets\", ascending=False).head(5)\n",
    "\n",
    "print(top_bowlers)\n"
   ]
  },
  {
   "cell_type": "code",
   "execution_count": 97,
   "id": "f6cd52fb",
   "metadata": {},
   "outputs": [
    {
     "data": {
      "text/html": [
       "<div>\n",
       "<style scoped>\n",
       "    .dataframe tbody tr th:only-of-type {\n",
       "        vertical-align: middle;\n",
       "    }\n",
       "\n",
       "    .dataframe tbody tr th {\n",
       "        vertical-align: top;\n",
       "    }\n",
       "\n",
       "    .dataframe thead th {\n",
       "        text-align: right;\n",
       "    }\n",
       "</style>\n",
       "<table border=\"1\" class=\"dataframe\">\n",
       "  <thead>\n",
       "    <tr style=\"text-align: right;\">\n",
       "      <th></th>\n",
       "      <th>matchId</th>\n",
       "      <th>inning</th>\n",
       "      <th>over_ball</th>\n",
       "      <th>over</th>\n",
       "      <th>ball</th>\n",
       "      <th>batting_team</th>\n",
       "      <th>bowling_team</th>\n",
       "      <th>batsman</th>\n",
       "      <th>non_striker</th>\n",
       "      <th>bowler</th>\n",
       "      <th>batsman_runs</th>\n",
       "      <th>extras</th>\n",
       "      <th>isWide</th>\n",
       "      <th>isNoBall</th>\n",
       "      <th>Byes</th>\n",
       "      <th>LegByes</th>\n",
       "      <th>Penalty</th>\n",
       "      <th>dismissal_kind</th>\n",
       "      <th>player_dismissed</th>\n",
       "      <th>date</th>\n",
       "    </tr>\n",
       "  </thead>\n",
       "  <tbody>\n",
       "    <tr>\n",
       "      <th>0</th>\n",
       "      <td>335982</td>\n",
       "      <td>1</td>\n",
       "      <td>0.1</td>\n",
       "      <td>0</td>\n",
       "      <td>1</td>\n",
       "      <td>Kolkata Knight Riders</td>\n",
       "      <td>Royal Challengers Bangalore</td>\n",
       "      <td>SC Ganguly</td>\n",
       "      <td>BB McCullum</td>\n",
       "      <td>P Kumar</td>\n",
       "      <td>0</td>\n",
       "      <td>1</td>\n",
       "      <td>0.0</td>\n",
       "      <td>0.0</td>\n",
       "      <td>0.0</td>\n",
       "      <td>1.0</td>\n",
       "      <td>0.0</td>\n",
       "      <td>NaN</td>\n",
       "      <td>NaN</td>\n",
       "      <td>2008-04-18</td>\n",
       "    </tr>\n",
       "    <tr>\n",
       "      <th>1</th>\n",
       "      <td>335982</td>\n",
       "      <td>1</td>\n",
       "      <td>0.2</td>\n",
       "      <td>0</td>\n",
       "      <td>2</td>\n",
       "      <td>Kolkata Knight Riders</td>\n",
       "      <td>Royal Challengers Bangalore</td>\n",
       "      <td>BB McCullum</td>\n",
       "      <td>SC Ganguly</td>\n",
       "      <td>P Kumar</td>\n",
       "      <td>0</td>\n",
       "      <td>0</td>\n",
       "      <td>0.0</td>\n",
       "      <td>0.0</td>\n",
       "      <td>0.0</td>\n",
       "      <td>0.0</td>\n",
       "      <td>0.0</td>\n",
       "      <td>NaN</td>\n",
       "      <td>NaN</td>\n",
       "      <td>2008-04-18</td>\n",
       "    </tr>\n",
       "    <tr>\n",
       "      <th>2</th>\n",
       "      <td>335982</td>\n",
       "      <td>1</td>\n",
       "      <td>0.3</td>\n",
       "      <td>0</td>\n",
       "      <td>3</td>\n",
       "      <td>Kolkata Knight Riders</td>\n",
       "      <td>Royal Challengers Bangalore</td>\n",
       "      <td>BB McCullum</td>\n",
       "      <td>SC Ganguly</td>\n",
       "      <td>P Kumar</td>\n",
       "      <td>0</td>\n",
       "      <td>1</td>\n",
       "      <td>1.0</td>\n",
       "      <td>0.0</td>\n",
       "      <td>0.0</td>\n",
       "      <td>0.0</td>\n",
       "      <td>0.0</td>\n",
       "      <td>NaN</td>\n",
       "      <td>NaN</td>\n",
       "      <td>2008-04-18</td>\n",
       "    </tr>\n",
       "    <tr>\n",
       "      <th>3</th>\n",
       "      <td>335982</td>\n",
       "      <td>1</td>\n",
       "      <td>0.4</td>\n",
       "      <td>0</td>\n",
       "      <td>4</td>\n",
       "      <td>Kolkata Knight Riders</td>\n",
       "      <td>Royal Challengers Bangalore</td>\n",
       "      <td>BB McCullum</td>\n",
       "      <td>SC Ganguly</td>\n",
       "      <td>P Kumar</td>\n",
       "      <td>0</td>\n",
       "      <td>0</td>\n",
       "      <td>0.0</td>\n",
       "      <td>0.0</td>\n",
       "      <td>0.0</td>\n",
       "      <td>0.0</td>\n",
       "      <td>0.0</td>\n",
       "      <td>NaN</td>\n",
       "      <td>NaN</td>\n",
       "      <td>2008-04-18</td>\n",
       "    </tr>\n",
       "    <tr>\n",
       "      <th>4</th>\n",
       "      <td>335982</td>\n",
       "      <td>1</td>\n",
       "      <td>0.5</td>\n",
       "      <td>0</td>\n",
       "      <td>5</td>\n",
       "      <td>Kolkata Knight Riders</td>\n",
       "      <td>Royal Challengers Bangalore</td>\n",
       "      <td>BB McCullum</td>\n",
       "      <td>SC Ganguly</td>\n",
       "      <td>P Kumar</td>\n",
       "      <td>0</td>\n",
       "      <td>0</td>\n",
       "      <td>0.0</td>\n",
       "      <td>0.0</td>\n",
       "      <td>0.0</td>\n",
       "      <td>0.0</td>\n",
       "      <td>0.0</td>\n",
       "      <td>NaN</td>\n",
       "      <td>NaN</td>\n",
       "      <td>2008-04-18</td>\n",
       "    </tr>\n",
       "    <tr>\n",
       "      <th>...</th>\n",
       "      <td>...</td>\n",
       "      <td>...</td>\n",
       "      <td>...</td>\n",
       "      <td>...</td>\n",
       "      <td>...</td>\n",
       "      <td>...</td>\n",
       "      <td>...</td>\n",
       "      <td>...</td>\n",
       "      <td>...</td>\n",
       "      <td>...</td>\n",
       "      <td>...</td>\n",
       "      <td>...</td>\n",
       "      <td>...</td>\n",
       "      <td>...</td>\n",
       "      <td>...</td>\n",
       "      <td>...</td>\n",
       "      <td>...</td>\n",
       "      <td>...</td>\n",
       "      <td>...</td>\n",
       "      <td>...</td>\n",
       "    </tr>\n",
       "    <tr>\n",
       "      <th>260915</th>\n",
       "      <td>1426312</td>\n",
       "      <td>2</td>\n",
       "      <td>9.5</td>\n",
       "      <td>9</td>\n",
       "      <td>5</td>\n",
       "      <td>Kolkata Knight Riders</td>\n",
       "      <td>Sunrisers Hyderabad</td>\n",
       "      <td>SS Iyer</td>\n",
       "      <td>VR Iyer</td>\n",
       "      <td>AK Markram</td>\n",
       "      <td>1</td>\n",
       "      <td>0</td>\n",
       "      <td>0.0</td>\n",
       "      <td>0.0</td>\n",
       "      <td>0.0</td>\n",
       "      <td>0.0</td>\n",
       "      <td>0.0</td>\n",
       "      <td>NaN</td>\n",
       "      <td>NaN</td>\n",
       "      <td>2024-05-26</td>\n",
       "    </tr>\n",
       "    <tr>\n",
       "      <th>260916</th>\n",
       "      <td>1426312</td>\n",
       "      <td>2</td>\n",
       "      <td>9.6</td>\n",
       "      <td>9</td>\n",
       "      <td>6</td>\n",
       "      <td>Kolkata Knight Riders</td>\n",
       "      <td>Sunrisers Hyderabad</td>\n",
       "      <td>VR Iyer</td>\n",
       "      <td>SS Iyer</td>\n",
       "      <td>AK Markram</td>\n",
       "      <td>1</td>\n",
       "      <td>0</td>\n",
       "      <td>0.0</td>\n",
       "      <td>0.0</td>\n",
       "      <td>0.0</td>\n",
       "      <td>0.0</td>\n",
       "      <td>0.0</td>\n",
       "      <td>NaN</td>\n",
       "      <td>NaN</td>\n",
       "      <td>2024-05-26</td>\n",
       "    </tr>\n",
       "    <tr>\n",
       "      <th>260917</th>\n",
       "      <td>1426312</td>\n",
       "      <td>2</td>\n",
       "      <td>10.1</td>\n",
       "      <td>10</td>\n",
       "      <td>1</td>\n",
       "      <td>Kolkata Knight Riders</td>\n",
       "      <td>Sunrisers Hyderabad</td>\n",
       "      <td>VR Iyer</td>\n",
       "      <td>SS Iyer</td>\n",
       "      <td>Shahbaz Ahmed</td>\n",
       "      <td>1</td>\n",
       "      <td>0</td>\n",
       "      <td>0.0</td>\n",
       "      <td>0.0</td>\n",
       "      <td>0.0</td>\n",
       "      <td>0.0</td>\n",
       "      <td>0.0</td>\n",
       "      <td>NaN</td>\n",
       "      <td>NaN</td>\n",
       "      <td>2024-05-26</td>\n",
       "    </tr>\n",
       "    <tr>\n",
       "      <th>260918</th>\n",
       "      <td>1426312</td>\n",
       "      <td>2</td>\n",
       "      <td>10.2</td>\n",
       "      <td>10</td>\n",
       "      <td>2</td>\n",
       "      <td>Kolkata Knight Riders</td>\n",
       "      <td>Sunrisers Hyderabad</td>\n",
       "      <td>SS Iyer</td>\n",
       "      <td>VR Iyer</td>\n",
       "      <td>Shahbaz Ahmed</td>\n",
       "      <td>1</td>\n",
       "      <td>0</td>\n",
       "      <td>0.0</td>\n",
       "      <td>0.0</td>\n",
       "      <td>0.0</td>\n",
       "      <td>0.0</td>\n",
       "      <td>0.0</td>\n",
       "      <td>NaN</td>\n",
       "      <td>NaN</td>\n",
       "      <td>2024-05-26</td>\n",
       "    </tr>\n",
       "    <tr>\n",
       "      <th>260919</th>\n",
       "      <td>1426312</td>\n",
       "      <td>2</td>\n",
       "      <td>10.3</td>\n",
       "      <td>10</td>\n",
       "      <td>3</td>\n",
       "      <td>Kolkata Knight Riders</td>\n",
       "      <td>Sunrisers Hyderabad</td>\n",
       "      <td>VR Iyer</td>\n",
       "      <td>SS Iyer</td>\n",
       "      <td>Shahbaz Ahmed</td>\n",
       "      <td>1</td>\n",
       "      <td>0</td>\n",
       "      <td>0.0</td>\n",
       "      <td>0.0</td>\n",
       "      <td>0.0</td>\n",
       "      <td>0.0</td>\n",
       "      <td>0.0</td>\n",
       "      <td>NaN</td>\n",
       "      <td>NaN</td>\n",
       "      <td>2024-05-26</td>\n",
       "    </tr>\n",
       "  </tbody>\n",
       "</table>\n",
       "<p>260920 rows × 20 columns</p>\n",
       "</div>"
      ],
      "text/plain": [
       "        matchId  inning  over_ball  over  ball           batting_team  \\\n",
       "0        335982       1        0.1     0     1  Kolkata Knight Riders   \n",
       "1        335982       1        0.2     0     2  Kolkata Knight Riders   \n",
       "2        335982       1        0.3     0     3  Kolkata Knight Riders   \n",
       "3        335982       1        0.4     0     4  Kolkata Knight Riders   \n",
       "4        335982       1        0.5     0     5  Kolkata Knight Riders   \n",
       "...         ...     ...        ...   ...   ...                    ...   \n",
       "260915  1426312       2        9.5     9     5  Kolkata Knight Riders   \n",
       "260916  1426312       2        9.6     9     6  Kolkata Knight Riders   \n",
       "260917  1426312       2       10.1    10     1  Kolkata Knight Riders   \n",
       "260918  1426312       2       10.2    10     2  Kolkata Knight Riders   \n",
       "260919  1426312       2       10.3    10     3  Kolkata Knight Riders   \n",
       "\n",
       "                       bowling_team      batsman  non_striker         bowler  \\\n",
       "0       Royal Challengers Bangalore   SC Ganguly  BB McCullum        P Kumar   \n",
       "1       Royal Challengers Bangalore  BB McCullum   SC Ganguly        P Kumar   \n",
       "2       Royal Challengers Bangalore  BB McCullum   SC Ganguly        P Kumar   \n",
       "3       Royal Challengers Bangalore  BB McCullum   SC Ganguly        P Kumar   \n",
       "4       Royal Challengers Bangalore  BB McCullum   SC Ganguly        P Kumar   \n",
       "...                             ...          ...          ...            ...   \n",
       "260915          Sunrisers Hyderabad      SS Iyer      VR Iyer     AK Markram   \n",
       "260916          Sunrisers Hyderabad      VR Iyer      SS Iyer     AK Markram   \n",
       "260917          Sunrisers Hyderabad      VR Iyer      SS Iyer  Shahbaz Ahmed   \n",
       "260918          Sunrisers Hyderabad      SS Iyer      VR Iyer  Shahbaz Ahmed   \n",
       "260919          Sunrisers Hyderabad      VR Iyer      SS Iyer  Shahbaz Ahmed   \n",
       "\n",
       "        batsman_runs  extras  isWide  isNoBall  Byes  LegByes  Penalty  \\\n",
       "0                  0       1     0.0       0.0   0.0      1.0      0.0   \n",
       "1                  0       0     0.0       0.0   0.0      0.0      0.0   \n",
       "2                  0       1     1.0       0.0   0.0      0.0      0.0   \n",
       "3                  0       0     0.0       0.0   0.0      0.0      0.0   \n",
       "4                  0       0     0.0       0.0   0.0      0.0      0.0   \n",
       "...              ...     ...     ...       ...   ...      ...      ...   \n",
       "260915             1       0     0.0       0.0   0.0      0.0      0.0   \n",
       "260916             1       0     0.0       0.0   0.0      0.0      0.0   \n",
       "260917             1       0     0.0       0.0   0.0      0.0      0.0   \n",
       "260918             1       0     0.0       0.0   0.0      0.0      0.0   \n",
       "260919             1       0     0.0       0.0   0.0      0.0      0.0   \n",
       "\n",
       "       dismissal_kind player_dismissed        date  \n",
       "0                 NaN              NaN  2008-04-18  \n",
       "1                 NaN              NaN  2008-04-18  \n",
       "2                 NaN              NaN  2008-04-18  \n",
       "3                 NaN              NaN  2008-04-18  \n",
       "4                 NaN              NaN  2008-04-18  \n",
       "...               ...              ...         ...  \n",
       "260915            NaN              NaN  2024-05-26  \n",
       "260916            NaN              NaN  2024-05-26  \n",
       "260917            NaN              NaN  2024-05-26  \n",
       "260918            NaN              NaN  2024-05-26  \n",
       "260919            NaN              NaN  2024-05-26  \n",
       "\n",
       "[260920 rows x 20 columns]"
      ]
     },
     "execution_count": 97,
     "metadata": {},
     "output_type": "execute_result"
    }
   ],
   "source": [
    "df"
   ]
  },
  {
   "cell_type": "code",
   "execution_count": 98,
   "id": "320885dc",
   "metadata": {},
   "outputs": [],
   "source": [
    "df[\"total_runs\"]=df[\"batsman_runs\"]+df[\"extras\"]"
   ]
  },
  {
   "cell_type": "code",
   "execution_count": 99,
   "id": "af98a748",
   "metadata": {},
   "outputs": [],
   "source": [
    "df_powerplay=df[(df[\"over\"] >= 0) & (df[\"over\"] < 7)][[\"matchId\",\"batting_team\",\"bowling_team\",\"total_runs\"]].groupby(\"matchId\").sum().sort_values(ascending=False,by=\"total_runs\") "
   ]
  },
  {
   "cell_type": "code",
   "execution_count": 104,
   "id": "9318495d",
   "metadata": {},
   "outputs": [],
   "source": [
    "df_powerplay[\"matchvs\"]=df_powerplay[\"batting_team\"]+\"vs\"+df_powerplay[\"bowling_team\"]"
   ]
  },
  {
   "cell_type": "code",
   "execution_count": 105,
   "id": "deaef962",
   "metadata": {},
   "outputs": [
    {
     "data": {
      "text/plain": [
       "matchId\n",
       "1426273    242\n",
       "1422126    193\n",
       "1426281    185\n",
       "734047     184\n",
       "1426268    181\n",
       "          ... \n",
       "501231      57\n",
       "392182      56\n",
       "501229      52\n",
       "501265      38\n",
       "1359519     34\n",
       "Name: total_runs, Length: 1095, dtype: int64"
      ]
     },
     "execution_count": 105,
     "metadata": {},
     "output_type": "execute_result"
    }
   ],
   "source": [
    "df_powerplay[\"total_runs\"]"
   ]
  },
  {
   "cell_type": "code",
   "execution_count": 113,
   "id": "26b0816d",
   "metadata": {},
   "outputs": [
    {
     "data": {
      "application/vnd.plotly.v1+json": {
       "config": {
        "plotlyServerURL": "https://plot.ly"
       },
       "data": [
        {
         "hovertemplate": "Match=%{x}<br>Total Runs=%{y}<extra></extra>",
         "legendgroup": "",
         "marker": {
          "color": "#636efa",
          "pattern": {
           "shape": ""
          }
         },
         "name": "",
         "orientation": "v",
         "showlegend": false,
         "textposition": "auto",
         "type": "bar",
         "x": [
          "Sunrisers Hyderabad vs Delhi Capitals",
          "Sunrisers Hyderabad vs Mumbai Indians",
          "Delhi Capitals vs Mumbai Indians",
          "Kings XI Punjab vs Chennai Super Kings",
          "Sunrisers Hyderabad vs Royal Challengers Bengaluru"
         ],
         "xaxis": "x",
         "y": {
          "bdata": "8gDBALkAuAC1AA==",
          "dtype": "i2"
         },
         "yaxis": "y"
        }
       ],
       "layout": {
        "barmode": "relative",
        "height": 520,
        "legend": {
         "tracegroupgap": 0
        },
        "margin": {
         "b": 120,
         "l": 40,
         "r": 20,
         "t": 60
        },
        "template": {
         "data": {
          "bar": [
           {
            "error_x": {
             "color": "#2a3f5f"
            },
            "error_y": {
             "color": "#2a3f5f"
            },
            "marker": {
             "line": {
              "color": "#E5ECF6",
              "width": 0.5
             },
             "pattern": {
              "fillmode": "overlay",
              "size": 10,
              "solidity": 0.2
             }
            },
            "type": "bar"
           }
          ],
          "barpolar": [
           {
            "marker": {
             "line": {
              "color": "#E5ECF6",
              "width": 0.5
             },
             "pattern": {
              "fillmode": "overlay",
              "size": 10,
              "solidity": 0.2
             }
            },
            "type": "barpolar"
           }
          ],
          "carpet": [
           {
            "aaxis": {
             "endlinecolor": "#2a3f5f",
             "gridcolor": "white",
             "linecolor": "white",
             "minorgridcolor": "white",
             "startlinecolor": "#2a3f5f"
            },
            "baxis": {
             "endlinecolor": "#2a3f5f",
             "gridcolor": "white",
             "linecolor": "white",
             "minorgridcolor": "white",
             "startlinecolor": "#2a3f5f"
            },
            "type": "carpet"
           }
          ],
          "choropleth": [
           {
            "colorbar": {
             "outlinewidth": 0,
             "ticks": ""
            },
            "type": "choropleth"
           }
          ],
          "contour": [
           {
            "colorbar": {
             "outlinewidth": 0,
             "ticks": ""
            },
            "colorscale": [
             [
              0,
              "#0d0887"
             ],
             [
              0.1111111111111111,
              "#46039f"
             ],
             [
              0.2222222222222222,
              "#7201a8"
             ],
             [
              0.3333333333333333,
              "#9c179e"
             ],
             [
              0.4444444444444444,
              "#bd3786"
             ],
             [
              0.5555555555555556,
              "#d8576b"
             ],
             [
              0.6666666666666666,
              "#ed7953"
             ],
             [
              0.7777777777777778,
              "#fb9f3a"
             ],
             [
              0.8888888888888888,
              "#fdca26"
             ],
             [
              1,
              "#f0f921"
             ]
            ],
            "type": "contour"
           }
          ],
          "contourcarpet": [
           {
            "colorbar": {
             "outlinewidth": 0,
             "ticks": ""
            },
            "type": "contourcarpet"
           }
          ],
          "heatmap": [
           {
            "colorbar": {
             "outlinewidth": 0,
             "ticks": ""
            },
            "colorscale": [
             [
              0,
              "#0d0887"
             ],
             [
              0.1111111111111111,
              "#46039f"
             ],
             [
              0.2222222222222222,
              "#7201a8"
             ],
             [
              0.3333333333333333,
              "#9c179e"
             ],
             [
              0.4444444444444444,
              "#bd3786"
             ],
             [
              0.5555555555555556,
              "#d8576b"
             ],
             [
              0.6666666666666666,
              "#ed7953"
             ],
             [
              0.7777777777777778,
              "#fb9f3a"
             ],
             [
              0.8888888888888888,
              "#fdca26"
             ],
             [
              1,
              "#f0f921"
             ]
            ],
            "type": "heatmap"
           }
          ],
          "histogram": [
           {
            "marker": {
             "pattern": {
              "fillmode": "overlay",
              "size": 10,
              "solidity": 0.2
             }
            },
            "type": "histogram"
           }
          ],
          "histogram2d": [
           {
            "colorbar": {
             "outlinewidth": 0,
             "ticks": ""
            },
            "colorscale": [
             [
              0,
              "#0d0887"
             ],
             [
              0.1111111111111111,
              "#46039f"
             ],
             [
              0.2222222222222222,
              "#7201a8"
             ],
             [
              0.3333333333333333,
              "#9c179e"
             ],
             [
              0.4444444444444444,
              "#bd3786"
             ],
             [
              0.5555555555555556,
              "#d8576b"
             ],
             [
              0.6666666666666666,
              "#ed7953"
             ],
             [
              0.7777777777777778,
              "#fb9f3a"
             ],
             [
              0.8888888888888888,
              "#fdca26"
             ],
             [
              1,
              "#f0f921"
             ]
            ],
            "type": "histogram2d"
           }
          ],
          "histogram2dcontour": [
           {
            "colorbar": {
             "outlinewidth": 0,
             "ticks": ""
            },
            "colorscale": [
             [
              0,
              "#0d0887"
             ],
             [
              0.1111111111111111,
              "#46039f"
             ],
             [
              0.2222222222222222,
              "#7201a8"
             ],
             [
              0.3333333333333333,
              "#9c179e"
             ],
             [
              0.4444444444444444,
              "#bd3786"
             ],
             [
              0.5555555555555556,
              "#d8576b"
             ],
             [
              0.6666666666666666,
              "#ed7953"
             ],
             [
              0.7777777777777778,
              "#fb9f3a"
             ],
             [
              0.8888888888888888,
              "#fdca26"
             ],
             [
              1,
              "#f0f921"
             ]
            ],
            "type": "histogram2dcontour"
           }
          ],
          "mesh3d": [
           {
            "colorbar": {
             "outlinewidth": 0,
             "ticks": ""
            },
            "type": "mesh3d"
           }
          ],
          "parcoords": [
           {
            "line": {
             "colorbar": {
              "outlinewidth": 0,
              "ticks": ""
             }
            },
            "type": "parcoords"
           }
          ],
          "pie": [
           {
            "automargin": true,
            "type": "pie"
           }
          ],
          "scatter": [
           {
            "fillpattern": {
             "fillmode": "overlay",
             "size": 10,
             "solidity": 0.2
            },
            "type": "scatter"
           }
          ],
          "scatter3d": [
           {
            "line": {
             "colorbar": {
              "outlinewidth": 0,
              "ticks": ""
             }
            },
            "marker": {
             "colorbar": {
              "outlinewidth": 0,
              "ticks": ""
             }
            },
            "type": "scatter3d"
           }
          ],
          "scattercarpet": [
           {
            "marker": {
             "colorbar": {
              "outlinewidth": 0,
              "ticks": ""
             }
            },
            "type": "scattercarpet"
           }
          ],
          "scattergeo": [
           {
            "marker": {
             "colorbar": {
              "outlinewidth": 0,
              "ticks": ""
             }
            },
            "type": "scattergeo"
           }
          ],
          "scattergl": [
           {
            "marker": {
             "colorbar": {
              "outlinewidth": 0,
              "ticks": ""
             }
            },
            "type": "scattergl"
           }
          ],
          "scattermap": [
           {
            "marker": {
             "colorbar": {
              "outlinewidth": 0,
              "ticks": ""
             }
            },
            "type": "scattermap"
           }
          ],
          "scattermapbox": [
           {
            "marker": {
             "colorbar": {
              "outlinewidth": 0,
              "ticks": ""
             }
            },
            "type": "scattermapbox"
           }
          ],
          "scatterpolar": [
           {
            "marker": {
             "colorbar": {
              "outlinewidth": 0,
              "ticks": ""
             }
            },
            "type": "scatterpolar"
           }
          ],
          "scatterpolargl": [
           {
            "marker": {
             "colorbar": {
              "outlinewidth": 0,
              "ticks": ""
             }
            },
            "type": "scatterpolargl"
           }
          ],
          "scatterternary": [
           {
            "marker": {
             "colorbar": {
              "outlinewidth": 0,
              "ticks": ""
             }
            },
            "type": "scatterternary"
           }
          ],
          "surface": [
           {
            "colorbar": {
             "outlinewidth": 0,
             "ticks": ""
            },
            "colorscale": [
             [
              0,
              "#0d0887"
             ],
             [
              0.1111111111111111,
              "#46039f"
             ],
             [
              0.2222222222222222,
              "#7201a8"
             ],
             [
              0.3333333333333333,
              "#9c179e"
             ],
             [
              0.4444444444444444,
              "#bd3786"
             ],
             [
              0.5555555555555556,
              "#d8576b"
             ],
             [
              0.6666666666666666,
              "#ed7953"
             ],
             [
              0.7777777777777778,
              "#fb9f3a"
             ],
             [
              0.8888888888888888,
              "#fdca26"
             ],
             [
              1,
              "#f0f921"
             ]
            ],
            "type": "surface"
           }
          ],
          "table": [
           {
            "cells": {
             "fill": {
              "color": "#EBF0F8"
             },
             "line": {
              "color": "white"
             }
            },
            "header": {
             "fill": {
              "color": "#C8D4E3"
             },
             "line": {
              "color": "white"
             }
            },
            "type": "table"
           }
          ]
         },
         "layout": {
          "annotationdefaults": {
           "arrowcolor": "#2a3f5f",
           "arrowhead": 0,
           "arrowwidth": 1
          },
          "autotypenumbers": "strict",
          "coloraxis": {
           "colorbar": {
            "outlinewidth": 0,
            "ticks": ""
           }
          },
          "colorscale": {
           "diverging": [
            [
             0,
             "#8e0152"
            ],
            [
             0.1,
             "#c51b7d"
            ],
            [
             0.2,
             "#de77ae"
            ],
            [
             0.3,
             "#f1b6da"
            ],
            [
             0.4,
             "#fde0ef"
            ],
            [
             0.5,
             "#f7f7f7"
            ],
            [
             0.6,
             "#e6f5d0"
            ],
            [
             0.7,
             "#b8e186"
            ],
            [
             0.8,
             "#7fbc41"
            ],
            [
             0.9,
             "#4d9221"
            ],
            [
             1,
             "#276419"
            ]
           ],
           "sequential": [
            [
             0,
             "#0d0887"
            ],
            [
             0.1111111111111111,
             "#46039f"
            ],
            [
             0.2222222222222222,
             "#7201a8"
            ],
            [
             0.3333333333333333,
             "#9c179e"
            ],
            [
             0.4444444444444444,
             "#bd3786"
            ],
            [
             0.5555555555555556,
             "#d8576b"
            ],
            [
             0.6666666666666666,
             "#ed7953"
            ],
            [
             0.7777777777777778,
             "#fb9f3a"
            ],
            [
             0.8888888888888888,
             "#fdca26"
            ],
            [
             1,
             "#f0f921"
            ]
           ],
           "sequentialminus": [
            [
             0,
             "#0d0887"
            ],
            [
             0.1111111111111111,
             "#46039f"
            ],
            [
             0.2222222222222222,
             "#7201a8"
            ],
            [
             0.3333333333333333,
             "#9c179e"
            ],
            [
             0.4444444444444444,
             "#bd3786"
            ],
            [
             0.5555555555555556,
             "#d8576b"
            ],
            [
             0.6666666666666666,
             "#ed7953"
            ],
            [
             0.7777777777777778,
             "#fb9f3a"
            ],
            [
             0.8888888888888888,
             "#fdca26"
            ],
            [
             1,
             "#f0f921"
            ]
           ]
          },
          "colorway": [
           "#636efa",
           "#EF553B",
           "#00cc96",
           "#ab63fa",
           "#FFA15A",
           "#19d3f3",
           "#FF6692",
           "#B6E880",
           "#FF97FF",
           "#FECB52"
          ],
          "font": {
           "color": "#2a3f5f"
          },
          "geo": {
           "bgcolor": "white",
           "lakecolor": "white",
           "landcolor": "#E5ECF6",
           "showlakes": true,
           "showland": true,
           "subunitcolor": "white"
          },
          "hoverlabel": {
           "align": "left"
          },
          "hovermode": "closest",
          "mapbox": {
           "style": "light"
          },
          "paper_bgcolor": "white",
          "plot_bgcolor": "#E5ECF6",
          "polar": {
           "angularaxis": {
            "gridcolor": "white",
            "linecolor": "white",
            "ticks": ""
           },
           "bgcolor": "#E5ECF6",
           "radialaxis": {
            "gridcolor": "white",
            "linecolor": "white",
            "ticks": ""
           }
          },
          "scene": {
           "xaxis": {
            "backgroundcolor": "#E5ECF6",
            "gridcolor": "white",
            "gridwidth": 2,
            "linecolor": "white",
            "showbackground": true,
            "ticks": "",
            "zerolinecolor": "white"
           },
           "yaxis": {
            "backgroundcolor": "#E5ECF6",
            "gridcolor": "white",
            "gridwidth": 2,
            "linecolor": "white",
            "showbackground": true,
            "ticks": "",
            "zerolinecolor": "white"
           },
           "zaxis": {
            "backgroundcolor": "#E5ECF6",
            "gridcolor": "white",
            "gridwidth": 2,
            "linecolor": "white",
            "showbackground": true,
            "ticks": "",
            "zerolinecolor": "white"
           }
          },
          "shapedefaults": {
           "line": {
            "color": "#2a3f5f"
           }
          },
          "ternary": {
           "aaxis": {
            "gridcolor": "white",
            "linecolor": "white",
            "ticks": ""
           },
           "baxis": {
            "gridcolor": "white",
            "linecolor": "white",
            "ticks": ""
           },
           "bgcolor": "#E5ECF6",
           "caxis": {
            "gridcolor": "white",
            "linecolor": "white",
            "ticks": ""
           }
          },
          "title": {
           "x": 0.05
          },
          "xaxis": {
           "automargin": true,
           "gridcolor": "white",
           "linecolor": "white",
           "ticks": "",
           "title": {
            "standoff": 15
           },
           "zerolinecolor": "white",
           "zerolinewidth": 2
          },
          "yaxis": {
           "automargin": true,
           "gridcolor": "white",
           "linecolor": "white",
           "ticks": "",
           "title": {
            "standoff": 15
           },
           "zerolinecolor": "white",
           "zerolinewidth": 2
          }
         }
        },
        "title": {
         "text": "Top Powerplay Totals by Match"
        },
        "xaxis": {
         "anchor": "y",
         "domain": [
          0,
          1
         ],
         "tickangle": -40,
         "title": {
          "text": "Match"
         }
        },
        "yaxis": {
         "anchor": "x",
         "domain": [
          0,
          1
         ],
         "title": {
          "text": "Total Runs"
         }
        }
       }
      }
     },
     "metadata": {},
     "output_type": "display_data"
    }
   ],
   "source": [
    "import pandas as pd\n",
    "import plotly.express as px\n",
    "\n",
    "df_22 = pd.DataFrame({\n",
    "    \"match\": [\n",
    "        \"Sunrisers Hyderabad vs Delhi Capitals\",\n",
    "        \"Sunrisers Hyderabad vs Mumbai Indians\",\n",
    "        \"Delhi Capitals vs Mumbai Indians\",\n",
    "        \"Kings XI Punjab vs Chennai Super Kings\",\n",
    "        \"Sunrisers Hyderabad vs Royal Challengers Bengaluru\"\n",
    "    ],\n",
    "    \"total_runs\": [242, 193, 185, 184, 181]\n",
    "})\n",
    "\n",
    "fig = px.bar(df_22, x=\"match\", y=\"total_runs\", title=\"Top Powerplay Totals by Match\",\n",
    "             labels={\"match\":\"Match\", \"total_runs\":\"Total Runs\"})\n",
    "fig.update_layout(xaxis_tickangle=-40, margin=dict(l=40,r=20,t=60,b=120), height=520)\n",
    "fig.show()\n"
   ]
  },
  {
   "cell_type": "code",
   "execution_count": null,
   "id": "4d7ccfa5",
   "metadata": {},
   "outputs": [],
   "source": []
  }
 ],
 "metadata": {
  "kernelspec": {
   "display_name": "Python 3",
   "language": "python",
   "name": "python3"
  },
  "language_info": {
   "codemirror_mode": {
    "name": "ipython",
    "version": 3
   },
   "file_extension": ".py",
   "mimetype": "text/x-python",
   "name": "python",
   "nbconvert_exporter": "python",
   "pygments_lexer": "ipython3",
   "version": "3.11.13"
  }
 },
 "nbformat": 4,
 "nbformat_minor": 5
}
