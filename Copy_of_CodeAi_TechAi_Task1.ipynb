{
  "nbformat": 4,
  "nbformat_minor": 0,
  "metadata": {
    "colab": {
      "provenance": []
    },
    "kernelspec": {
      "name": "python3",
      "display_name": "Python 3"
    },
    "language_info": {
      "name": "python"
    }
  },
  "cells": [
    {
      "cell_type": "markdown",
      "source": [
        "# ***FOR DOING THE TASK MAKE THE COPY OF THIS COLLAB FILE IN YOUR DRIVE***"
      ],
      "metadata": {
        "id": "XnP1PxmLWjlC"
      }
    },
    {
      "cell_type": "markdown",
      "source": [
        "### 1. Python Basics & Control Structures\n",
        "\n",
        "*Task*:\n",
        "\n",
        "* Write a Python program that:\n",
        "\n",
        "  * Takes a list of strings (e.g., [\"apple\", \"banana\", \"grape\", \"kiwi\", \"orange\"]).\n",
        "  * Filters out fruits with more than 5 characters using a for loop and if statement.\n",
        "  * For each fruit, print its length.\n",
        "\n",
        "*Example Input*:\n",
        "\n",
        "python\n",
        "fruits = [\"apple\", \"banana\", \"grape\", \"kiwi\", \"orange\"]"
      ],
      "metadata": {
        "id": "RBNeAaOLxbe5"
      }
    },
    {
      "cell_type": "code",
      "source": [
        "fruits=[\"apple\", \"banana\", \"grape\", \"kiwi\", \"orange\"]\n",
        "\n",
        "for f in fruits:\n",
        "    if len(f)>=5:\n",
        "        print(f\"The fruit {f} has {len(f)} characters\")\n"
      ],
      "metadata": {
        "colab": {
          "base_uri": "https://localhost:8080/"
        },
        "id": "1GKhYYw88Q4e",
        "outputId": "de63f22f-ca20-40d0-edaf-d4c0ad265cf7"
      },
      "execution_count": null,
      "outputs": [
        {
          "output_type": "stream",
          "name": "stdout",
          "text": [
            "The fruit apple has 5 characters\n",
            "The fruit banana has 6 characters\n",
            "The fruit grape has 5 characters\n",
            "The fruit orange has 6 characters\n"
          ]
        }
      ]
    },
    {
      "cell_type": "markdown",
      "source": [
        "\n",
        "*Expected Output*:\n",
        "\n",
        "\n",
        "The fruit apple has 5 characters.\n",
        "\n",
        "The fruit banana has 6 characters.\n",
        "\n",
        "The fruit orange has 6 characters.\n"
      ],
      "metadata": {
        "id": "sQeiBzi9xjIl"
      }
    },
    {
      "cell_type": "markdown",
      "source": [
        "### 2. Functions & Lambda\n",
        "\n",
        "*Task*:\n",
        "\n",
        "* Write a function that takes a list of integers and a threshold value. Use a **lambda* function inside filter() to return a list of numbers greater than the threshold.\n",
        "\n",
        "\n",
        "  # Test the function with a list [1, 5, 10, 3, 8] and threshold 5\n",
        "\n",
        "\n",
        "\n",
        "\n"
      ],
      "metadata": {
        "id": "k12WGkNoyAgY"
      }
    },
    {
      "cell_type": "code",
      "source": [
        "def greater_than(number,threshold):\n",
        "    return list(filter(lambda x:x>threshold,number))\n",
        "\n",
        "num=[1,5,10,3,8]\n",
        "threshold_value=5\n",
        "result=greater_than(num,threshold_value)\n",
        "print(result)\n"
      ],
      "metadata": {
        "id": "xSLokk2iy1OQ",
        "colab": {
          "base_uri": "https://localhost:8080/"
        },
        "outputId": "d7f5e314-ae64-4efc-cb9e-874d0b70070f"
      },
      "execution_count": null,
      "outputs": [
        {
          "output_type": "stream",
          "name": "stdout",
          "text": [
            "[10, 8]\n"
          ]
        }
      ]
    },
    {
      "cell_type": "markdown",
      "source": [
        "### 3. Object-Oriented Programming (OOP)\n",
        "\n",
        "*Task*:\n",
        "\n",
        "* Implement a BankAccount class with methods for depositing, withdrawing, transferring, and checking balance.\n",
        "* Implement *Polymorphism* by overriding the __str__ method to provide a custom string representation of the account.\n",
        "\n",
        "\n",
        "# Example\n",
        "account_a = BankAccount(\"A123\", \"Alice\", 1000)\n",
        "\n",
        "account_b = BankAccount(\"B456\", \"Bob\", 500)\n",
        "\n",
        "account_a.deposit(200)\n",
        "\n",
        "account_a.transfer(300, account_b)\n"
      ],
      "metadata": {
        "id": "qFz4IBidxuK8"
      }
    },
    {
      "cell_type": "code",
      "source": [
        "class BankAccount:\n",
        "    def __init__(s,account_number,account_holder,balance=0):\n",
        "        s.account_number=account_number\n",
        "        s.account_holder=account_holder\n",
        "        s.balance=balance\n",
        "\n",
        "    def deposit(s,amount):\n",
        "        if amount>0:\n",
        "            s.balance+=amount\n",
        "            print(f\"Deposited {amount} to {s.account_number}\")\n",
        "        else:\n",
        "            print(\"Deposit amount must be positive.\")\n",
        "\n",
        "    def withdraw(s,amount):\n",
        "        if amount>s.balance:\n",
        "            print(\"Insufficient Balance\")\n",
        "        elif amount<=0:\n",
        "            print(\"Withdrawal amount must be positive.\")\n",
        "        else:\n",
        "            s.balance-=amount\n",
        "            print(f\"Withdrew {amount} from {s.account_number} and {s.account_holder}\")\n",
        "\n",
        "    def transfer(s,amount,target_account):\n",
        "        if amount>0 and amount<=s.balance:\n",
        "            s.withdraw(amount)\n",
        "            target_account.deposit(amount)\n",
        "            print(f\"Transferred {amount} from {s.account_number} to {target_account.account_number}\")\n",
        "        else:\n",
        "            print(\"Transfer failed. Check amount and balance.\")\n",
        "\n",
        "    def check_balance(s):\n",
        "        print(f\"Balance for {s.account_number}:{s.balance}\")\n",
        "\n",
        "    def __str__(s):\n",
        "        return f\"Account {s.account_number} ({s.account_holder}) - Balance: {s.balance}\"\n",
        "\n",
        "\n",
        "acc_a=BankAccount(\"A123\", \"Alice\",1000)\n",
        "acc_b=BankAccount(\"B456\", \"Bob\",500)\n",
        "\n",
        "acc_a.deposit(200)\n",
        "acc_a.transfer(300,acc_b)\n",
        "\n",
        "print(acc_a)\n",
        "print(acc_b)\n"
      ],
      "metadata": {
        "id": "nkl25hP8zWJQ",
        "colab": {
          "base_uri": "https://localhost:8080/"
        },
        "outputId": "8ab7a5e4-3e06-4573-f140-0538055e8d1f"
      },
      "execution_count": 2,
      "outputs": [
        {
          "output_type": "stream",
          "name": "stdout",
          "text": [
            "Deposited 200 to A123\n",
            "Withdrew 300 from A123 and Alice\n",
            "Deposited 300 to B456\n",
            "Transferred 300 from A123 to B456\n",
            "Account A123 (Alice) - Balance: 900\n",
            "Account B456 (Bob) - Balance: 800\n"
          ]
        }
      ]
    },
    {
      "cell_type": "markdown",
      "source": [
        "### 4. Exception Handling\n",
        "\n",
        "*Task*:\n",
        "\n",
        "* Write a divide_numbers(a, b) function with exception handling:\n",
        "\n",
        "  * Handle division by zero and invalid input (non-numeric values).\n",
        "\n",
        "\n",
        "# Test the function\n",
        "print(divide_numbers(10, 2))   # Valid input\n",
        "\n",
        "print(divide_numbers(10, 0))   # Division by zero\n",
        "\n",
        "print(divide_numbers(\"ten\", 2))  # Invalid input"
      ],
      "metadata": {
        "id": "R9op0Bt0xttt"
      }
    },
    {
      "cell_type": "code",
      "source": [
        "def divide_numbers(a,b):\n",
        "    try:\n",
        "        return a/b\n",
        "    except ZeroDivisionError:\n",
        "        return \"Cannot divide by zero\"\n",
        "    except TypeError:\n",
        "        return \"Invalid input, please enter numbers\"\n",
        "print(divide_numbers(10,2))\n",
        "print(divide_numbers(10,0))\n",
        "print(divide_numbers(\"ten\",2))\n"
      ],
      "metadata": {
        "id": "DEZfXk4V0A8_",
        "colab": {
          "base_uri": "https://localhost:8080/"
        },
        "outputId": "523ae6b0-2d97-4e88-c7f2-4851b82110ce"
      },
      "execution_count": 4,
      "outputs": [
        {
          "output_type": "stream",
          "name": "stdout",
          "text": [
            "5.0\n",
            "Cannot divide by zero\n",
            "Invalid input, please enter numbers\n"
          ]
        }
      ]
    },
    {
      "cell_type": "markdown",
      "source": [
        "*Example Expected Output*:\n",
        "\n",
        "\n",
        "5.0\n",
        "\n",
        "Cannot divide by zero\n",
        "\n",
        "Invalid input, please enter numbers"
      ],
      "metadata": {
        "id": "UAfaux4e0LsB"
      }
    },
    {
      "cell_type": "markdown",
      "source": [
        "### 5. Python Modules & File Handling\n",
        "\n",
        "*Task*:\n",
        "\n",
        "* Write a Python program to:\n",
        "\n",
        "  * Create a text file \"students.txt\" with student names and marks.\n",
        "  * Read the file and print names of students with marks above 80.\n",
        "\n",
        "\n",
        "\n",
        "\n"
      ],
      "metadata": {
        "id": "_zo-t7xZ0ayU"
      }
    },
    {
      "cell_type": "code",
      "source": [
        "# Step 1: Create the file and write student names and marks\n",
        "with open(\"students.txt\", \"w\") as file:\n",
        "    file.write(\"Alice,85\\n\")\n",
        "    file.write(\"Bob,88\\n\")\n",
        "    file.write(\"Charlie,72\\n\")\n",
        "    file.write(\"David,97\\n\")\n",
        "    file.write(\"Eva,78\\n\")\n",
        "\n",
        "# Step 2: Read the file and print students with marks above 80\n",
        "print(\"Students with marks above 80:\")\n",
        "with open(\"students.txt\", \"r\") as file:\n",
        "    for line in file:\n",
        "        name,marks=line.strip().split(\",\")\n",
        "        if int(marks)>80:\n",
        "            print(name)\n"
      ],
      "metadata": {
        "id": "kp3PLXuv0_cU",
        "colab": {
          "base_uri": "https://localhost:8080/"
        },
        "outputId": "d5308d6c-c47b-4040-fab2-461ecb85209a"
      },
      "execution_count": 7,
      "outputs": [
        {
          "output_type": "stream",
          "name": "stdout",
          "text": [
            "Students with marks above 80:\n",
            "Alice\n",
            "Bob\n",
            "David\n"
          ]
        }
      ]
    },
    {
      "cell_type": "markdown",
      "source": [
        "\n",
        "*Expected Output*:\n",
        "\n",
        "\n",
        "Alice\n",
        "\n",
        "Bob\n",
        "\n",
        "David\n"
      ],
      "metadata": {
        "id": "BGTgVTJZ0_7b"
      }
    },
    {
      "cell_type": "markdown",
      "source": [
        "### 6. Regular Expressions\n",
        "\n",
        "*Task*:\n",
        "\n",
        "* Write a Python function extract_phone_numbers(text) that extracts all phone numbers from a given text. The phone numbers should be in the format (xxx) xxx-xxxx.\n",
        "\n",
        "\n",
        "sample_text = (\n",
        "    \"For any support regarding our Bangalore office, call us at +91-9876543210 between 9 AM to 6 PM. \"\n",
        "    \"If you are located in Mumbai, you can also reach our helpdesk at 9123456789 for urgent assistance. \"\n",
        "    \"Additionally, our Delhi branch can be contacted at +91-9988776655 during weekdays.\"\n",
        ")\n",
        "\n",
        "\n",
        "\n",
        "\n",
        "*Expected Output*:\n",
        "\n",
        "\n",
        "['+91-9876543210', '+91-9988776655']\n"
      ],
      "metadata": {
        "id": "buuDAsX_2ZEg"
      }
    },
    {
      "cell_type": "code",
      "source": [
        "sample_text = ( \"For any support regarding our Bangalore office, call us at +91-9876543210 between 9 AM to 6 PM. \" \"If you are located in Mumbai, you can also reach our helpdesk at 9123456789 for urgent assistance. \" \"Additionally, our Delhi branch can be contacted at +91-9988776655 during weekdays.\" )\n",
        "phone_numbers = []\n",
        "i=0\n",
        "while i<len(sample_text):\n",
        "    if sample_text[i]==\"+\":\n",
        "        number = sample_text[i:i+14]\n",
        "        phone_numbers.append(number)\n",
        "        i=i+14\n",
        "    else:\n",
        "        i=i+1\n",
        "\n",
        "print(phone_numbers)\n"
      ],
      "metadata": {
        "id": "Nx0oXsT92Ytu",
        "colab": {
          "base_uri": "https://localhost:8080/"
        },
        "outputId": "2d95112c-11f3-4d56-f445-1ed971faa0a1"
      },
      "execution_count": 15,
      "outputs": [
        {
          "output_type": "stream",
          "name": "stdout",
          "text": [
            "['+91-9876543210', '+91-9988776655']\n"
          ]
        }
      ]
    },
    {
      "cell_type": "markdown",
      "source": [
        "\n",
        "*Expected Output*:\n",
        "\n",
        "\n",
        "['+91-9876543210', '+91-9988776655']"
      ],
      "metadata": {
        "id": "6uPEN50JQ4IP"
      }
    }
  ]
}